{
 "cells": [
  {
   "cell_type": "code",
   "execution_count": 1,
   "metadata": {},
   "outputs": [],
   "source": [
    "import python_api_consumer\n"
   ]
  },
  {
   "cell_type": "code",
   "execution_count": 2,
   "metadata": {},
   "outputs": [],
   "source": [
    "from python_api_consumer.aaas import AaaS, K-Anonymity, L-Diversity, DataObject"
   ]
  },
  {
   "cell_type": "code",
   "execution_count": 4,
   "metadata": {},
   "outputs": [],
   "source": [
    "aaas = AaaS(\"http://34.73.75.250:8080\")"
   ]
  },
  {
   "cell_type": "code",
   "execution_count": 5,
   "metadata": {},
   "outputs": [],
   "source": [
    "test_data = {\n",
    "   \"data\": \"age, gender, zipcode\\n34, male, 81667\\n35, female, 81668\\n36, male, 81669\\n37, female, 81670\\n38, male, 81671\\n39, female, 81672\\n40, male, 81673\\n41, female, 81674\\n42, male, 81675\\n43, female, 81676\\n44, male, 81677\",\n",
    "   \"metaData\": {\n",
    "       \"sensitivityList\":{\"age\":\"IDENTIFYING\",\n",
    "                           \"gender\":\"INSENSITIVE\",\n",
    "                           \"zipcode\":\"INSENSITIVE\"\n",
    "       },\n",
    "       \"dataType\": None,\n",
    "       \"hierarchy\": {\"zipcode\":\n",
    "[[\"81667\", \"8166*\", \"816**\", \"81***\", \"8****\", \"*****\"],\n",
    "[\"81668\", \"8166*\", \"816**\", \"81***\", \"8****\", \"*****\"],\n",
    "[\"81669\", \"8166*\", \"816**\", \"81***\", \"8****\", \"*****\"],\n",
    "[\"81670\", \"8167*\", \"816**\", \"81***\", \"8****\", \"*****\"],\n",
    "[\"81671\", \"8167*\", \"816**\", \"81***\", \"8****\", \"*****\"],\n",
    "[\"81672\", \"8167*\", \"816**\", \"81***\", \"8****\", \"*****\"],\n",
    "[\"81673\", \"8167*\", \"816**\", \"81***\", \"8****\", \"*****\"],\n",
    "[\"81674\", \"8167*\", \"816**\", \"81***\", \"8****\", \"*****\"],\n",
    "[\"81675\", \"8167*\", \"816**\", \"81***\", \"8****\", \"*****\"],\n",
    "[\"81676\", \"8167*\", \"816**\", \"81***\", \"8****\", \"*****\"],\n",
    "[\"81677\", \"8167*\", \"816**\", \"81***\", \"8****\", \"*****\"]]},\n",
    "       \"models\": {\"KANONYMITY\":{ \"k\": \"4\"}\n",
    "       }\n",
    "   }\n",
    "}"
   ]
  },
  {
   "cell_type": "code",
   "execution_count": 6,
   "metadata": {},
   "outputs": [],
   "source": [
    "aaas.set_data(test_data) # data param can be str, dict, 2dlist and pandas, deletes any already set data"
   ]
  },
  {
   "cell_type": "code",
   "execution_count": 7,
   "metadata": {},
   "outputs": [],
   "source": []
  },
  {
   "cell_type": "code",
   "execution_count": 8,
   "metadata": {},
   "outputs": [
    {
     "data": {
      "text/plain": [
       "<Response [200]>"
      ]
     },
     "execution_count": 8,
     "metadata": {},
     "output_type": "execute_result"
    }
   ],
   "source": [
    "result"
   ]
  },
  {
   "cell_type": "code",
   "execution_count": 9,
   "metadata": {},
   "outputs": [
    {
     "data": {
      "text/plain": [
       "{'data': 'age;gender;zipcode\\n*;male;816**\\n*;female;816**\\n*;male;816**\\n*;female;816**\\n*;male;816**\\n*;female;816**\\n*;male;816**\\n*;female;816**\\n*;male;816**\\n*;female;816**\\n*;male;816**\\n',\n",
       " 'metaData': {'sensitivityList': {'age': 'IDENTIFYING',\n",
       "   'gender': 'INSENSITIVE',\n",
       "   'zipcode': 'INSENSITIVE'},\n",
       "  'dataType': None,\n",
       "  'hierarchy': {'zipcode': [['81667',\n",
       "     '8166*',\n",
       "     '816**',\n",
       "     '81***',\n",
       "     '8****',\n",
       "     '*****'],\n",
       "    ['81668', '8166*', '816**', '81***', '8****', '*****'],\n",
       "    ['81669', '8166*', '816**', '81***', '8****', '*****'],\n",
       "    ['81670', '8167*', '816**', '81***', '8****', '*****'],\n",
       "    ['81671', '8167*', '816**', '81***', '8****', '*****'],\n",
       "    ['81672', '8167*', '816**', '81***', '8****', '*****'],\n",
       "    ['81673', '8167*', '816**', '81***', '8****', '*****'],\n",
       "    ['81674', '8167*', '816**', '81***', '8****', '*****'],\n",
       "    ['81675', '8167*', '816**', '81***', '8****', '*****'],\n",
       "    ['81676', '8167*', '816**', '81***', '8****', '*****'],\n",
       "    ['81677', '8167*', '816**', '81***', '8****', '*****']]},\n",
       "  'models': {'KANONYMITY': {'k': '4'}}}}"
      ]
     },
     "execution_count": 9,
     "metadata": {},
     "output_type": "execute_result"
    }
   ],
   "source": [
    "result.json()"
   ]
  },
  {
   "cell_type": "code",
   "execution_count": null,
   "metadata": {},
   "outputs": [],
   "source": [
    "# Create add sensitivity\n",
    "aaas.set_attribute_type(\"age\", \"SENSITIVE\") # enum internal\n",
    "aass.set_attribute_type({\"age\":\"IDENTIFYING\",\n",
    "                           \"gender\":\"INSENSITIVE\",\n",
    "                           \"zipcode\":\"INSENSITIVE\"})"
   ]
  },
  {
   "cell_type": "code",
   "execution_count": null,
   "metadata": {},
   "outputs": [],
   "source": [
    "# Create add hirachy, list and str param\n",
    "aaas.add_hirachy[\"zipcode\"] =\n",
    "    [['81667','8166*', '816**', '81***', '8****', '*****'],\n",
    "    ['81668', '8166*', '816**', '81***', '8****', '*****'],\n",
    "    ['81669', '8166*', '816**', '81***', '8****', '*****'],\n",
    "    ['81670', '8167*', '816**', '81***', '8****', '*****'],\n",
    "    ['81671', '8167*', '816**', '81***', '8****', '*****'],\n",
    "    ['81672', '8167*', '816**', '81***', '8****', '*****'],\n",
    "    ['81673', '8167*', '816**', '81***', '8****', '*****'],\n",
    "    ['81674', '8167*', '816**', '81***', '8****', '*****'],\n",
    "    ['81675', '8167*', '816**', '81***', '8****', '*****'],\n",
    "    ['81676', '8167*', '816**', '81***', '8****', '*****'],\n",
    "    ['81677', '8167*', '816**', '81***', '8****', '*****']]\n",
    "\n",
    "    \n",
    "aaas.add_hirachy(\"zipcode\", [['81667','8166*', '816**', '81***', '8****', '*****'],\n",
    "    ['81668', '8166*', '816**', '81***', '8****', '*****'],\n",
    "    ['81669', '8166*', '816**', '81***', '8****', '*****'],\n",
    "    ['81670', '8167*', '816**', '81***', '8****', '*****'],\n",
    "    ['81671', '8167*', '816**', '81***', '8****', '*****'],\n",
    "    ['81672', '8167*', '816**', '81***', '8****', '*****'],\n",
    "    ['81673', '8167*', '816**', '81***', '8****', '*****'],\n",
    "    ['81674', '8167*', '816**', '81***', '8****', '*****'],\n",
    "    ['81675', '8167*', '816**', '81***', '8****', '*****'],\n",
    "    ['81676', '8167*', '816**', '81***', '8****', '*****'],\n",
    "    ['81677', '8167*', '816**', '81***', '8****', '*****']])\n",
    "\n",
    "aaas.add_hirachy(\"zipcode\", HirachyGen(\"BLANK_LAST\", 5)) # Hirachy Generator\n",
    "\n",
    "\n",
    "for field, "
   ]
  },
  {
   "cell_type": "code",
   "execution_count": null,
   "metadata": {},
   "outputs": [],
   "source": [
    "# Create Models, Model classes for each Model\n",
    "aaas.set_model(K-Anonymity(k=4))\n"
   ]
  },
  {
   "cell_type": "code",
   "execution_count": null,
   "metadata": {},
   "outputs": [],
   "source": [
    "# Anonymize\n",
    "\n",
    "result = python_api_consumer.anonymize(data_object)\n",
    "    \n",
    "aaas = AaaS(url)\n",
    "resutl = aaas.anonymize() # result should be pandas\n",
    "\n",
    "\n",
    "resultList = []\n",
    "for data in lotsofdata:\n",
    "    aaas.set_data(data)\n",
    "    resultList.append(aaas.anonymize())\n",
    "\n",
    "\n",
    "\n"
   ]
  }
 ],
 "metadata": {
  "kernelspec": {
   "display_name": "Python 3",
   "language": "python",
   "name": "python3"
  },
  "language_info": {
   "codemirror_mode": {
    "name": "ipython",
    "version": 3
   },
   "file_extension": ".py",
   "mimetype": "text/x-python",
   "name": "python",
   "nbconvert_exporter": "python",
   "pygments_lexer": "ipython3",
   "version": "3.7.2"
  }
 },
 "nbformat": 4,
 "nbformat_minor": 2
}

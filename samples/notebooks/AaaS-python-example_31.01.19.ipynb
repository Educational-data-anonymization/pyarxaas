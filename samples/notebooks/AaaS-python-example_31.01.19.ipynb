{
 "cells": [
  {
   "cell_type": "code",
   "execution_count": null,
   "metadata": {},
   "outputs": [],
   "source": []
  },
  {
   "cell_type": "code",
   "execution_count": 1,
   "metadata": {},
   "outputs": [],
   "source": [
    "import pandas as pd\n",
    "from pyaaas.aaas import AaaS\n",
    "from pyaaas.models.privacy_models import KAnonymity"
   ]
  },
  {
   "cell_type": "code",
   "execution_count": 2,
   "metadata": {},
   "outputs": [],
   "source": [
    "aaas = AaaS(\"http://localhost:8080\")"
   ]
  },
  {
   "cell_type": "code",
   "execution_count": 3,
   "metadata": {},
   "outputs": [],
   "source": [
    "test_data = {'age': {0: 34,\n",
    "  1: 35,\n",
    "  2: 36,\n",
    "  3: 37,\n",
    "  4: 38,\n",
    "  5: 39,\n",
    "  6: 40,\n",
    "  7: 41,\n",
    "  8: 42,\n",
    "  9: 43,\n",
    "  10: 44},\n",
    " ' gender': {0: ' male',\n",
    "  1: ' female',\n",
    "  2: ' male',\n",
    "  3: ' female',\n",
    "  4: ' male',\n",
    "  5: ' female',\n",
    "  6: ' male',\n",
    "  7: ' female',\n",
    "  8: ' male',\n",
    "  9: ' female',\n",
    "  10: ' male'},\n",
    " ' zipcode': {0: 81667,\n",
    "  1: 81668,\n",
    "  2: 81669,\n",
    "  3: 81670,\n",
    "  4: 81671,\n",
    "  5: 81672,\n",
    "  6: 81673,\n",
    "  7: 81674,\n",
    "  8: 81675,\n",
    "  9: 81676,\n",
    "  10: 81677}}"
   ]
  },
  {
   "cell_type": "code",
   "execution_count": 4,
   "metadata": {},
   "outputs": [],
   "source": [
    "df = pd.DataFrame(test_data)"
   ]
  },
  {
   "cell_type": "code",
   "execution_count": 5,
   "metadata": {},
   "outputs": [
    {
     "data": {
      "text/html": [
       "<div>\n",
       "<style scoped>\n",
       "    .dataframe tbody tr th:only-of-type {\n",
       "        vertical-align: middle;\n",
       "    }\n",
       "\n",
       "    .dataframe tbody tr th {\n",
       "        vertical-align: top;\n",
       "    }\n",
       "\n",
       "    .dataframe thead th {\n",
       "        text-align: right;\n",
       "    }\n",
       "</style>\n",
       "<table border=\"1\" class=\"dataframe\">\n",
       "  <thead>\n",
       "    <tr style=\"text-align: right;\">\n",
       "      <th></th>\n",
       "      <th>age</th>\n",
       "      <th>gender</th>\n",
       "      <th>zipcode</th>\n",
       "    </tr>\n",
       "  </thead>\n",
       "  <tbody>\n",
       "    <tr>\n",
       "      <th>0</th>\n",
       "      <td>34</td>\n",
       "      <td>male</td>\n",
       "      <td>81667</td>\n",
       "    </tr>\n",
       "    <tr>\n",
       "      <th>1</th>\n",
       "      <td>35</td>\n",
       "      <td>female</td>\n",
       "      <td>81668</td>\n",
       "    </tr>\n",
       "    <tr>\n",
       "      <th>2</th>\n",
       "      <td>36</td>\n",
       "      <td>male</td>\n",
       "      <td>81669</td>\n",
       "    </tr>\n",
       "    <tr>\n",
       "      <th>3</th>\n",
       "      <td>37</td>\n",
       "      <td>female</td>\n",
       "      <td>81670</td>\n",
       "    </tr>\n",
       "    <tr>\n",
       "      <th>4</th>\n",
       "      <td>38</td>\n",
       "      <td>male</td>\n",
       "      <td>81671</td>\n",
       "    </tr>\n",
       "    <tr>\n",
       "      <th>5</th>\n",
       "      <td>39</td>\n",
       "      <td>female</td>\n",
       "      <td>81672</td>\n",
       "    </tr>\n",
       "    <tr>\n",
       "      <th>6</th>\n",
       "      <td>40</td>\n",
       "      <td>male</td>\n",
       "      <td>81673</td>\n",
       "    </tr>\n",
       "    <tr>\n",
       "      <th>7</th>\n",
       "      <td>41</td>\n",
       "      <td>female</td>\n",
       "      <td>81674</td>\n",
       "    </tr>\n",
       "    <tr>\n",
       "      <th>8</th>\n",
       "      <td>42</td>\n",
       "      <td>male</td>\n",
       "      <td>81675</td>\n",
       "    </tr>\n",
       "    <tr>\n",
       "      <th>9</th>\n",
       "      <td>43</td>\n",
       "      <td>female</td>\n",
       "      <td>81676</td>\n",
       "    </tr>\n",
       "    <tr>\n",
       "      <th>10</th>\n",
       "      <td>44</td>\n",
       "      <td>male</td>\n",
       "      <td>81677</td>\n",
       "    </tr>\n",
       "  </tbody>\n",
       "</table>\n",
       "</div>"
      ],
      "text/plain": [
       "    age   gender   zipcode\n",
       "0    34     male     81667\n",
       "1    35   female     81668\n",
       "2    36     male     81669\n",
       "3    37   female     81670\n",
       "4    38     male     81671\n",
       "5    39   female     81672\n",
       "6    40     male     81673\n",
       "7    41   female     81674\n",
       "8    42     male     81675\n",
       "9    43   female     81676\n",
       "10   44     male     81677"
      ]
     },
     "execution_count": 5,
     "metadata": {},
     "output_type": "execute_result"
    }
   ],
   "source": [
    "df\n"
   ]
  },
  {
   "cell_type": "markdown",
   "metadata": {},
   "source": [
    "### Set data to be anonymized"
   ]
  },
  {
   "cell_type": "code",
   "execution_count": 6,
   "metadata": {},
   "outputs": [],
   "source": [
    "aaas.set_data(df)"
   ]
  },
  {
   "cell_type": "markdown",
   "metadata": {},
   "source": [
    "### Sett attribute type for fields"
   ]
  },
  {
   "cell_type": "code",
   "execution_count": 7,
   "metadata": {},
   "outputs": [],
   "source": [
    "aaas.set_attribute_type({\"age\":\"IDENTIFYING\",\n",
    "                           \"gender\":\"INSENSITIVE\",\n",
    "                           \"zipcode\":\"INSENSITIVE\"\n",
    "       })"
   ]
  },
  {
   "cell_type": "markdown",
   "metadata": {},
   "source": [
    "### Sett hierarchy for field"
   ]
  },
  {
   "cell_type": "code",
   "execution_count": 8,
   "metadata": {},
   "outputs": [],
   "source": [
    "zip_code_hierarchy = [\n",
    "                [\"81667\", \"8166*\", \"816**\", \"81***\", \"8****\", \"*****\"]\n",
    "                ,[\"81668\", \"8166*\", \"816**\", \"81***\", \"8****\", \"*****\"]\n",
    "                ,[\"81669\", \"8166*\", \"816**\", \"81***\", \"8****\", \"*****\"]\n",
    "                ,[\"81670\", \"8167*\", \"816**\", \"81***\", \"8****\", \"*****\"]\n",
    "                ,[\"81671\", \"8167*\", \"816**\", \"81***\", \"8****\", \"*****\"]\n",
    "                ,[\"81672\", \"8167*\", \"816**\", \"81***\", \"8****\", \"*****\"]\n",
    "                ,[\"81673\", \"8167*\", \"816**\", \"81***\", \"8****\", \"*****\"]\n",
    "                ,[\"81674\", \"8167*\", \"816**\", \"81***\", \"8****\", \"*****\"]\n",
    "                ,[\"81675\", \"8167*\", \"816**\", \"81***\", \"8****\", \"*****\"]\n",
    "                ,[\"81676\", \"8167*\", \"816**\", \"81***\", \"8****\", \"*****\"]\n",
    "                ,[\"81677\", \"8167*\", \"816**\", \"81***\", \"8****\", \"*****\"]\n",
    "]"
   ]
  },
  {
   "cell_type": "code",
   "execution_count": 9,
   "metadata": {},
   "outputs": [],
   "source": [
    "aaas.set_hierarchy(\"zipcode\", zip_code_hierarchy)\n"
   ]
  },
  {
   "cell_type": "code",
   "execution_count": null,
   "metadata": {},
   "outputs": [],
   "source": []
  },
  {
   "cell_type": "markdown",
   "metadata": {},
   "source": [
    "### Create and set Privacy model"
   ]
  },
  {
   "cell_type": "code",
   "execution_count": 10,
   "metadata": {},
   "outputs": [],
   "source": [
    "kanon = KAnonymity(k=4)"
   ]
  },
  {
   "cell_type": "code",
   "execution_count": 11,
   "metadata": {},
   "outputs": [],
   "source": [
    "aaas.set_model(kanon)"
   ]
  },
  {
   "cell_type": "markdown",
   "metadata": {},
   "source": [
    "## Print current state "
   ]
  },
  {
   "cell_type": "code",
   "execution_count": 12,
   "metadata": {},
   "outputs": [],
   "source": [
    "from pyaaas.state_printer import jupyter_print_mapping"
   ]
  },
  {
   "cell_type": "code",
   "execution_count": 13,
   "metadata": {},
   "outputs": [
    {
     "name": "stdout",
     "output_type": "stream",
     "text": [
      "Privacy Models\n"
     ]
    },
    {
     "data": {
      "text/html": [
       "<div>\n",
       "<style scoped>\n",
       "    .dataframe tbody tr th:only-of-type {\n",
       "        vertical-align: middle;\n",
       "    }\n",
       "\n",
       "    .dataframe tbody tr th {\n",
       "        vertical-align: top;\n",
       "    }\n",
       "\n",
       "    .dataframe thead th {\n",
       "        text-align: right;\n",
       "    }\n",
       "</style>\n",
       "<table border=\"1\" class=\"dataframe\">\n",
       "  <thead>\n",
       "    <tr style=\"text-align: right;\">\n",
       "      <th></th>\n",
       "      <th></th>\n",
       "      <th>value</th>\n",
       "    </tr>\n",
       "    <tr>\n",
       "      <th>privacy_model</th>\n",
       "      <th>parameter</th>\n",
       "      <th></th>\n",
       "    </tr>\n",
       "  </thead>\n",
       "  <tbody>\n",
       "    <tr>\n",
       "      <th>KANONYMITY</th>\n",
       "      <th>k</th>\n",
       "      <td>4</td>\n",
       "    </tr>\n",
       "  </tbody>\n",
       "</table>\n",
       "</div>"
      ],
      "text/plain": [
       "                         value\n",
       "privacy_model parameter       \n",
       "KANONYMITY    k              4"
      ]
     },
     "metadata": {},
     "output_type": "display_data"
    },
    {
     "name": "stdout",
     "output_type": "stream",
     "text": [
      "----------------------------------------\n",
      "Attribute Types\n"
     ]
    },
    {
     "data": {
      "text/html": [
       "<div>\n",
       "<style scoped>\n",
       "    .dataframe tbody tr th:only-of-type {\n",
       "        vertical-align: middle;\n",
       "    }\n",
       "\n",
       "    .dataframe tbody tr th {\n",
       "        vertical-align: top;\n",
       "    }\n",
       "\n",
       "    .dataframe thead th {\n",
       "        text-align: right;\n",
       "    }\n",
       "</style>\n",
       "<table border=\"1\" class=\"dataframe\">\n",
       "  <thead>\n",
       "    <tr style=\"text-align: right;\">\n",
       "      <th></th>\n",
       "      <th>type</th>\n",
       "    </tr>\n",
       "    <tr>\n",
       "      <th>field</th>\n",
       "      <th></th>\n",
       "    </tr>\n",
       "  </thead>\n",
       "  <tbody>\n",
       "    <tr>\n",
       "      <th>age</th>\n",
       "      <td>IDENTIFYING</td>\n",
       "    </tr>\n",
       "    <tr>\n",
       "      <th>gender</th>\n",
       "      <td>INSENSITIVE</td>\n",
       "    </tr>\n",
       "    <tr>\n",
       "      <th>zipcode</th>\n",
       "      <td>INSENSITIVE</td>\n",
       "    </tr>\n",
       "  </tbody>\n",
       "</table>\n",
       "</div>"
      ],
      "text/plain": [
       "                type\n",
       "field               \n",
       "age      IDENTIFYING\n",
       "gender   INSENSITIVE\n",
       "zipcode  INSENSITIVE"
      ]
     },
     "metadata": {},
     "output_type": "display_data"
    },
    {
     "name": "stdout",
     "output_type": "stream",
     "text": [
      "----------------------------------------\n",
      "Transform Models\n"
     ]
    },
    {
     "data": {
      "text/html": [
       "<div>\n",
       "<style scoped>\n",
       "    .dataframe tbody tr th:only-of-type {\n",
       "        vertical-align: middle;\n",
       "    }\n",
       "\n",
       "    .dataframe tbody tr th {\n",
       "        vertical-align: top;\n",
       "    }\n",
       "\n",
       "    .dataframe thead th {\n",
       "        text-align: right;\n",
       "    }\n",
       "</style>\n",
       "<table border=\"1\" class=\"dataframe\">\n",
       "  <thead>\n",
       "    <tr style=\"text-align: right;\">\n",
       "      <th></th>\n",
       "      <th></th>\n",
       "      <th>0</th>\n",
       "      <th>1</th>\n",
       "      <th>2</th>\n",
       "      <th>3</th>\n",
       "      <th>4</th>\n",
       "      <th>5</th>\n",
       "      <th>6</th>\n",
       "      <th>7</th>\n",
       "      <th>8</th>\n",
       "      <th>9</th>\n",
       "      <th>10</th>\n",
       "    </tr>\n",
       "  </thead>\n",
       "  <tbody>\n",
       "    <tr>\n",
       "      <th rowspan=\"5\" valign=\"top\">zipcode</th>\n",
       "      <th>level_1</th>\n",
       "      <td>8166*</td>\n",
       "      <td>8166*</td>\n",
       "      <td>8166*</td>\n",
       "      <td>8167*</td>\n",
       "      <td>8167*</td>\n",
       "      <td>8167*</td>\n",
       "      <td>8167*</td>\n",
       "      <td>8167*</td>\n",
       "      <td>8167*</td>\n",
       "      <td>8167*</td>\n",
       "      <td>8167*</td>\n",
       "    </tr>\n",
       "    <tr>\n",
       "      <th>level_2</th>\n",
       "      <td>816**</td>\n",
       "      <td>816**</td>\n",
       "      <td>816**</td>\n",
       "      <td>816**</td>\n",
       "      <td>816**</td>\n",
       "      <td>816**</td>\n",
       "      <td>816**</td>\n",
       "      <td>816**</td>\n",
       "      <td>816**</td>\n",
       "      <td>816**</td>\n",
       "      <td>816**</td>\n",
       "    </tr>\n",
       "    <tr>\n",
       "      <th>level_3</th>\n",
       "      <td>81***</td>\n",
       "      <td>81***</td>\n",
       "      <td>81***</td>\n",
       "      <td>81***</td>\n",
       "      <td>81***</td>\n",
       "      <td>81***</td>\n",
       "      <td>81***</td>\n",
       "      <td>81***</td>\n",
       "      <td>81***</td>\n",
       "      <td>81***</td>\n",
       "      <td>81***</td>\n",
       "    </tr>\n",
       "    <tr>\n",
       "      <th>level_4</th>\n",
       "      <td>8****</td>\n",
       "      <td>8****</td>\n",
       "      <td>8****</td>\n",
       "      <td>8****</td>\n",
       "      <td>8****</td>\n",
       "      <td>8****</td>\n",
       "      <td>8****</td>\n",
       "      <td>8****</td>\n",
       "      <td>8****</td>\n",
       "      <td>8****</td>\n",
       "      <td>8****</td>\n",
       "    </tr>\n",
       "    <tr>\n",
       "      <th>level_5</th>\n",
       "      <td>*****</td>\n",
       "      <td>*****</td>\n",
       "      <td>*****</td>\n",
       "      <td>*****</td>\n",
       "      <td>*****</td>\n",
       "      <td>*****</td>\n",
       "      <td>*****</td>\n",
       "      <td>*****</td>\n",
       "      <td>*****</td>\n",
       "      <td>*****</td>\n",
       "      <td>*****</td>\n",
       "    </tr>\n",
       "  </tbody>\n",
       "</table>\n",
       "</div>"
      ],
      "text/plain": [
       "                    0      1      2      3      4      5      6      7   \\\n",
       "zipcode level_1  8166*  8166*  8166*  8167*  8167*  8167*  8167*  8167*   \n",
       "        level_2  816**  816**  816**  816**  816**  816**  816**  816**   \n",
       "        level_3  81***  81***  81***  81***  81***  81***  81***  81***   \n",
       "        level_4  8****  8****  8****  8****  8****  8****  8****  8****   \n",
       "        level_5  *****  *****  *****  *****  *****  *****  *****  *****   \n",
       "\n",
       "                    8      9      10  \n",
       "zipcode level_1  8167*  8167*  8167*  \n",
       "        level_2  816**  816**  816**  \n",
       "        level_3  81***  81***  81***  \n",
       "        level_4  8****  8****  8****  \n",
       "        level_5  *****  *****  *****  "
      ]
     },
     "metadata": {},
     "output_type": "display_data"
    },
    {
     "name": "stdout",
     "output_type": "stream",
     "text": [
      "----------------------------------------\n"
     ]
    }
   ],
   "source": [
    "aaas.describe(jupyter_print_mapping)"
   ]
  },
  {
   "cell_type": "code",
   "execution_count": 14,
   "metadata": {},
   "outputs": [
    {
     "name": "stdout",
     "output_type": "stream",
     "text": [
      "Privacy Models\n"
     ]
    },
    {
     "data": {
      "text/html": [
       "<div>\n",
       "<style scoped>\n",
       "    .dataframe tbody tr th:only-of-type {\n",
       "        vertical-align: middle;\n",
       "    }\n",
       "\n",
       "    .dataframe tbody tr th {\n",
       "        vertical-align: top;\n",
       "    }\n",
       "\n",
       "    .dataframe thead th {\n",
       "        text-align: right;\n",
       "    }\n",
       "</style>\n",
       "<table border=\"1\" class=\"dataframe\">\n",
       "  <thead>\n",
       "    <tr style=\"text-align: right;\">\n",
       "      <th></th>\n",
       "      <th></th>\n",
       "      <th>value</th>\n",
       "    </tr>\n",
       "    <tr>\n",
       "      <th>privacy_model</th>\n",
       "      <th>parameter</th>\n",
       "      <th></th>\n",
       "    </tr>\n",
       "  </thead>\n",
       "  <tbody>\n",
       "    <tr>\n",
       "      <th>KANONYMITY</th>\n",
       "      <th>k</th>\n",
       "      <td>4</td>\n",
       "    </tr>\n",
       "  </tbody>\n",
       "</table>\n",
       "</div>"
      ],
      "text/plain": [
       "                         value\n",
       "privacy_model parameter       \n",
       "KANONYMITY    k              4"
      ]
     },
     "metadata": {},
     "output_type": "display_data"
    },
    {
     "name": "stdout",
     "output_type": "stream",
     "text": [
      "----------------------------------------\n",
      "Attribute Types\n"
     ]
    },
    {
     "data": {
      "text/html": [
       "<div>\n",
       "<style scoped>\n",
       "    .dataframe tbody tr th:only-of-type {\n",
       "        vertical-align: middle;\n",
       "    }\n",
       "\n",
       "    .dataframe tbody tr th {\n",
       "        vertical-align: top;\n",
       "    }\n",
       "\n",
       "    .dataframe thead th {\n",
       "        text-align: right;\n",
       "    }\n",
       "</style>\n",
       "<table border=\"1\" class=\"dataframe\">\n",
       "  <thead>\n",
       "    <tr style=\"text-align: right;\">\n",
       "      <th></th>\n",
       "      <th>type</th>\n",
       "    </tr>\n",
       "    <tr>\n",
       "      <th>field</th>\n",
       "      <th></th>\n",
       "    </tr>\n",
       "  </thead>\n",
       "  <tbody>\n",
       "    <tr>\n",
       "      <th>age</th>\n",
       "      <td>IDENTIFYING</td>\n",
       "    </tr>\n",
       "    <tr>\n",
       "      <th>gender</th>\n",
       "      <td>INSENSITIVE</td>\n",
       "    </tr>\n",
       "    <tr>\n",
       "      <th>zipcode</th>\n",
       "      <td>INSENSITIVE</td>\n",
       "    </tr>\n",
       "  </tbody>\n",
       "</table>\n",
       "</div>"
      ],
      "text/plain": [
       "                type\n",
       "field               \n",
       "age      IDENTIFYING\n",
       "gender   INSENSITIVE\n",
       "zipcode  INSENSITIVE"
      ]
     },
     "metadata": {},
     "output_type": "display_data"
    },
    {
     "name": "stdout",
     "output_type": "stream",
     "text": [
      "----------------------------------------\n",
      "Transform Models\n"
     ]
    },
    {
     "data": {
      "text/html": [
       "<div>\n",
       "<style scoped>\n",
       "    .dataframe tbody tr th:only-of-type {\n",
       "        vertical-align: middle;\n",
       "    }\n",
       "\n",
       "    .dataframe tbody tr th {\n",
       "        vertical-align: top;\n",
       "    }\n",
       "\n",
       "    .dataframe thead th {\n",
       "        text-align: right;\n",
       "    }\n",
       "</style>\n",
       "<table border=\"1\" class=\"dataframe\">\n",
       "  <thead>\n",
       "    <tr style=\"text-align: right;\">\n",
       "      <th></th>\n",
       "      <th></th>\n",
       "      <th>0</th>\n",
       "      <th>1</th>\n",
       "      <th>2</th>\n",
       "      <th>3</th>\n",
       "      <th>4</th>\n",
       "      <th>5</th>\n",
       "      <th>6</th>\n",
       "      <th>7</th>\n",
       "      <th>8</th>\n",
       "      <th>9</th>\n",
       "      <th>10</th>\n",
       "    </tr>\n",
       "  </thead>\n",
       "  <tbody>\n",
       "    <tr>\n",
       "      <th rowspan=\"5\" valign=\"top\">zipcode</th>\n",
       "      <th>level_1</th>\n",
       "      <td>8166*</td>\n",
       "      <td>8166*</td>\n",
       "      <td>8166*</td>\n",
       "      <td>8167*</td>\n",
       "      <td>8167*</td>\n",
       "      <td>8167*</td>\n",
       "      <td>8167*</td>\n",
       "      <td>8167*</td>\n",
       "      <td>8167*</td>\n",
       "      <td>8167*</td>\n",
       "      <td>8167*</td>\n",
       "    </tr>\n",
       "    <tr>\n",
       "      <th>level_2</th>\n",
       "      <td>816**</td>\n",
       "      <td>816**</td>\n",
       "      <td>816**</td>\n",
       "      <td>816**</td>\n",
       "      <td>816**</td>\n",
       "      <td>816**</td>\n",
       "      <td>816**</td>\n",
       "      <td>816**</td>\n",
       "      <td>816**</td>\n",
       "      <td>816**</td>\n",
       "      <td>816**</td>\n",
       "    </tr>\n",
       "    <tr>\n",
       "      <th>level_3</th>\n",
       "      <td>81***</td>\n",
       "      <td>81***</td>\n",
       "      <td>81***</td>\n",
       "      <td>81***</td>\n",
       "      <td>81***</td>\n",
       "      <td>81***</td>\n",
       "      <td>81***</td>\n",
       "      <td>81***</td>\n",
       "      <td>81***</td>\n",
       "      <td>81***</td>\n",
       "      <td>81***</td>\n",
       "    </tr>\n",
       "    <tr>\n",
       "      <th>level_4</th>\n",
       "      <td>8****</td>\n",
       "      <td>8****</td>\n",
       "      <td>8****</td>\n",
       "      <td>8****</td>\n",
       "      <td>8****</td>\n",
       "      <td>8****</td>\n",
       "      <td>8****</td>\n",
       "      <td>8****</td>\n",
       "      <td>8****</td>\n",
       "      <td>8****</td>\n",
       "      <td>8****</td>\n",
       "    </tr>\n",
       "    <tr>\n",
       "      <th>level_5</th>\n",
       "      <td>*****</td>\n",
       "      <td>*****</td>\n",
       "      <td>*****</td>\n",
       "      <td>*****</td>\n",
       "      <td>*****</td>\n",
       "      <td>*****</td>\n",
       "      <td>*****</td>\n",
       "      <td>*****</td>\n",
       "      <td>*****</td>\n",
       "      <td>*****</td>\n",
       "      <td>*****</td>\n",
       "    </tr>\n",
       "  </tbody>\n",
       "</table>\n",
       "</div>"
      ],
      "text/plain": [
       "                    0      1      2      3      4      5      6      7   \\\n",
       "zipcode level_1  8166*  8166*  8166*  8167*  8167*  8167*  8167*  8167*   \n",
       "        level_2  816**  816**  816**  816**  816**  816**  816**  816**   \n",
       "        level_3  81***  81***  81***  81***  81***  81***  81***  81***   \n",
       "        level_4  8****  8****  8****  8****  8****  8****  8****  8****   \n",
       "        level_5  *****  *****  *****  *****  *****  *****  *****  *****   \n",
       "\n",
       "                    8      9      10  \n",
       "zipcode level_1  8167*  8167*  8167*  \n",
       "        level_2  816**  816**  816**  \n",
       "        level_3  81***  81***  81***  \n",
       "        level_4  8****  8****  8****  \n",
       "        level_5  *****  *****  *****  "
      ]
     },
     "metadata": {},
     "output_type": "display_data"
    },
    {
     "name": "stdout",
     "output_type": "stream",
     "text": [
      "----------------------------------------\n"
     ]
    }
   ],
   "source": [
    "\n",
    "from pyaaas.state_printer import jupyter_print_mapping\n",
    "aaas.describe(printer=jupyter_print_mapping)"
   ]
  },
  {
   "cell_type": "code",
   "execution_count": 15,
   "metadata": {},
   "outputs": [
    {
     "data": {
      "text/plain": [
       "{'age': 'IDENTIFYING', 'gender': 'INSENSITIVE', 'zipcode': 'INSENSITIVE'}"
      ]
     },
     "execution_count": 15,
     "metadata": {},
     "output_type": "execute_result"
    }
   ],
   "source": [
    "aaas.payload.attribute_types"
   ]
  },
  {
   "cell_type": "markdown",
   "metadata": {},
   "source": [
    "### Run anonymization"
   ]
  },
  {
   "cell_type": "code",
   "execution_count": 16,
   "metadata": {},
   "outputs": [],
   "source": [
    "result = aaas.anonymize()\n"
   ]
  },
  {
   "cell_type": "code",
   "execution_count": 17,
   "metadata": {},
   "outputs": [
    {
     "data": {
      "text/plain": [
       "<pyaaas.models.anonymize_result.AnonymizeResult at 0x7fbe1c2f1668>"
      ]
     },
     "execution_count": 17,
     "metadata": {},
     "output_type": "execute_result"
    }
   ],
   "source": [
    "result"
   ]
  },
  {
   "cell_type": "markdown",
   "metadata": {},
   "source": [
    "### Get DataFrame from result"
   ]
  },
  {
   "cell_type": "code",
   "execution_count": 18,
   "metadata": {},
   "outputs": [],
   "source": [
    "df = result.get_result_dataframe()"
   ]
  },
  {
   "cell_type": "code",
   "execution_count": 19,
   "metadata": {},
   "outputs": [
    {
     "data": {
      "text/html": [
       "<div>\n",
       "<style scoped>\n",
       "    .dataframe tbody tr th:only-of-type {\n",
       "        vertical-align: middle;\n",
       "    }\n",
       "\n",
       "    .dataframe tbody tr th {\n",
       "        vertical-align: top;\n",
       "    }\n",
       "\n",
       "    .dataframe thead th {\n",
       "        text-align: right;\n",
       "    }\n",
       "</style>\n",
       "<table border=\"1\" class=\"dataframe\">\n",
       "  <thead>\n",
       "    <tr style=\"text-align: right;\">\n",
       "      <th></th>\n",
       "      <th>age</th>\n",
       "      <th>gender</th>\n",
       "      <th>zipcode</th>\n",
       "    </tr>\n",
       "  </thead>\n",
       "  <tbody>\n",
       "    <tr>\n",
       "      <th>0</th>\n",
       "      <td>*</td>\n",
       "      <td>male</td>\n",
       "      <td>816**</td>\n",
       "    </tr>\n",
       "    <tr>\n",
       "      <th>1</th>\n",
       "      <td>*</td>\n",
       "      <td>female</td>\n",
       "      <td>816**</td>\n",
       "    </tr>\n",
       "    <tr>\n",
       "      <th>2</th>\n",
       "      <td>*</td>\n",
       "      <td>male</td>\n",
       "      <td>816**</td>\n",
       "    </tr>\n",
       "    <tr>\n",
       "      <th>3</th>\n",
       "      <td>*</td>\n",
       "      <td>female</td>\n",
       "      <td>816**</td>\n",
       "    </tr>\n",
       "    <tr>\n",
       "      <th>4</th>\n",
       "      <td>*</td>\n",
       "      <td>male</td>\n",
       "      <td>816**</td>\n",
       "    </tr>\n",
       "    <tr>\n",
       "      <th>5</th>\n",
       "      <td>*</td>\n",
       "      <td>female</td>\n",
       "      <td>816**</td>\n",
       "    </tr>\n",
       "    <tr>\n",
       "      <th>6</th>\n",
       "      <td>*</td>\n",
       "      <td>male</td>\n",
       "      <td>816**</td>\n",
       "    </tr>\n",
       "    <tr>\n",
       "      <th>7</th>\n",
       "      <td>*</td>\n",
       "      <td>female</td>\n",
       "      <td>816**</td>\n",
       "    </tr>\n",
       "    <tr>\n",
       "      <th>8</th>\n",
       "      <td>*</td>\n",
       "      <td>male</td>\n",
       "      <td>816**</td>\n",
       "    </tr>\n",
       "    <tr>\n",
       "      <th>9</th>\n",
       "      <td>*</td>\n",
       "      <td>female</td>\n",
       "      <td>816**</td>\n",
       "    </tr>\n",
       "    <tr>\n",
       "      <th>10</th>\n",
       "      <td>*</td>\n",
       "      <td>male</td>\n",
       "      <td>816**</td>\n",
       "    </tr>\n",
       "  </tbody>\n",
       "</table>\n",
       "</div>"
      ],
      "text/plain": [
       "   age  gender zipcode\n",
       "0    *    male   816**\n",
       "1    *  female   816**\n",
       "2    *    male   816**\n",
       "3    *  female   816**\n",
       "4    *    male   816**\n",
       "5    *  female   816**\n",
       "6    *    male   816**\n",
       "7    *  female   816**\n",
       "8    *    male   816**\n",
       "9    *  female   816**\n",
       "10   *    male   816**"
      ]
     },
     "execution_count": 19,
     "metadata": {},
     "output_type": "execute_result"
    }
   ],
   "source": [
    "df"
   ]
  },
  {
   "cell_type": "markdown",
   "metadata": {},
   "source": [
    "### Get all result data as dict"
   ]
  },
  {
   "cell_type": "code",
   "execution_count": 20,
   "metadata": {},
   "outputs": [],
   "source": [
    "bmetrics = result.get_metrics_before()"
   ]
  },
  {
   "cell_type": "code",
   "execution_count": 21,
   "metadata": {},
   "outputs": [
    {
     "data": {
      "text/html": [
       "<div>\n",
       "<style scoped>\n",
       "    .dataframe tbody tr th:only-of-type {\n",
       "        vertical-align: middle;\n",
       "    }\n",
       "\n",
       "    .dataframe tbody tr th {\n",
       "        vertical-align: top;\n",
       "    }\n",
       "\n",
       "    .dataframe thead th {\n",
       "        text-align: right;\n",
       "    }\n",
       "</style>\n",
       "<table border=\"1\" class=\"dataframe\">\n",
       "  <thead>\n",
       "    <tr style=\"text-align: right;\">\n",
       "      <th></th>\n",
       "      <th>value</th>\n",
       "    </tr>\n",
       "    <tr>\n",
       "      <th>metric</th>\n",
       "      <th></th>\n",
       "    </tr>\n",
       "  </thead>\n",
       "  <tbody>\n",
       "    <tr>\n",
       "      <th>measure_value</th>\n",
       "      <td>[%]</td>\n",
       "    </tr>\n",
       "    <tr>\n",
       "      <th>record_affected_by_highest_risk</th>\n",
       "      <td>100.0</td>\n",
       "    </tr>\n",
       "    <tr>\n",
       "      <th>sample_uniques</th>\n",
       "      <td>0.0</td>\n",
       "    </tr>\n",
       "    <tr>\n",
       "      <th>estimated_prosecutor_risk</th>\n",
       "      <td>9.090909090909092</td>\n",
       "    </tr>\n",
       "    <tr>\n",
       "      <th>population_model</th>\n",
       "      <td>DANKAR</td>\n",
       "    </tr>\n",
       "    <tr>\n",
       "      <th>records_affected_by_lowest_risk</th>\n",
       "      <td>100.0</td>\n",
       "    </tr>\n",
       "    <tr>\n",
       "      <th>estimated_marketer_risk</th>\n",
       "      <td>9.090909090909092</td>\n",
       "    </tr>\n",
       "    <tr>\n",
       "      <th>highest_prosecutor_risk</th>\n",
       "      <td>9.090909090909092</td>\n",
       "    </tr>\n",
       "    <tr>\n",
       "      <th>estimated_journalist_risk</th>\n",
       "      <td>9.090909090909092</td>\n",
       "    </tr>\n",
       "    <tr>\n",
       "      <th>lowest_risk</th>\n",
       "      <td>9.090909090909092</td>\n",
       "    </tr>\n",
       "    <tr>\n",
       "      <th>average_prosecutor_risk</th>\n",
       "      <td>9.090909090909092</td>\n",
       "    </tr>\n",
       "    <tr>\n",
       "      <th>population_uniques</th>\n",
       "      <td>0.0</td>\n",
       "    </tr>\n",
       "    <tr>\n",
       "      <th>quasi_identifiers</th>\n",
       "      <td>[]</td>\n",
       "    </tr>\n",
       "  </tbody>\n",
       "</table>\n",
       "</div>"
      ],
      "text/plain": [
       "                                             value\n",
       "metric                                            \n",
       "measure_value                                  [%]\n",
       "record_affected_by_highest_risk              100.0\n",
       "sample_uniques                                 0.0\n",
       "estimated_prosecutor_risk        9.090909090909092\n",
       "population_model                            DANKAR\n",
       "records_affected_by_lowest_risk              100.0\n",
       "estimated_marketer_risk          9.090909090909092\n",
       "highest_prosecutor_risk          9.090909090909092\n",
       "estimated_journalist_risk        9.090909090909092\n",
       "lowest_risk                      9.090909090909092\n",
       "average_prosecutor_risk          9.090909090909092\n",
       "population_uniques                             0.0\n",
       "quasi_identifiers                               []"
      ]
     },
     "execution_count": 21,
     "metadata": {},
     "output_type": "execute_result"
    }
   ],
   "source": [
    "bmetrics"
   ]
  },
  {
   "cell_type": "code",
   "execution_count": 22,
   "metadata": {},
   "outputs": [],
   "source": [
    "ametrics = result.get_metrics_after()"
   ]
  },
  {
   "cell_type": "code",
   "execution_count": 23,
   "metadata": {},
   "outputs": [
    {
     "data": {
      "text/html": [
       "<div>\n",
       "<style scoped>\n",
       "    .dataframe tbody tr th:only-of-type {\n",
       "        vertical-align: middle;\n",
       "    }\n",
       "\n",
       "    .dataframe tbody tr th {\n",
       "        vertical-align: top;\n",
       "    }\n",
       "\n",
       "    .dataframe thead th {\n",
       "        text-align: right;\n",
       "    }\n",
       "</style>\n",
       "<table border=\"1\" class=\"dataframe\">\n",
       "  <thead>\n",
       "    <tr style=\"text-align: right;\">\n",
       "      <th></th>\n",
       "      <th>value</th>\n",
       "    </tr>\n",
       "    <tr>\n",
       "      <th>metric</th>\n",
       "      <th></th>\n",
       "    </tr>\n",
       "  </thead>\n",
       "  <tbody>\n",
       "    <tr>\n",
       "      <th>measure_value</th>\n",
       "      <td>[%]</td>\n",
       "    </tr>\n",
       "    <tr>\n",
       "      <th>record_affected_by_highest_risk</th>\n",
       "      <td>100.0</td>\n",
       "    </tr>\n",
       "    <tr>\n",
       "      <th>sample_uniques</th>\n",
       "      <td>0.0</td>\n",
       "    </tr>\n",
       "    <tr>\n",
       "      <th>estimated_prosecutor_risk</th>\n",
       "      <td>9.090909090909092</td>\n",
       "    </tr>\n",
       "    <tr>\n",
       "      <th>population_model</th>\n",
       "      <td>DANKAR</td>\n",
       "    </tr>\n",
       "    <tr>\n",
       "      <th>records_affected_by_lowest_risk</th>\n",
       "      <td>100.0</td>\n",
       "    </tr>\n",
       "    <tr>\n",
       "      <th>estimated_marketer_risk</th>\n",
       "      <td>9.090909090909092</td>\n",
       "    </tr>\n",
       "    <tr>\n",
       "      <th>highest_prosecutor_risk</th>\n",
       "      <td>9.090909090909092</td>\n",
       "    </tr>\n",
       "    <tr>\n",
       "      <th>estimated_journalist_risk</th>\n",
       "      <td>9.090909090909092</td>\n",
       "    </tr>\n",
       "    <tr>\n",
       "      <th>lowest_risk</th>\n",
       "      <td>9.090909090909092</td>\n",
       "    </tr>\n",
       "    <tr>\n",
       "      <th>average_prosecutor_risk</th>\n",
       "      <td>9.090909090909092</td>\n",
       "    </tr>\n",
       "    <tr>\n",
       "      <th>population_uniques</th>\n",
       "      <td>0.0</td>\n",
       "    </tr>\n",
       "    <tr>\n",
       "      <th>quasi_identifiers</th>\n",
       "      <td>[]</td>\n",
       "    </tr>\n",
       "  </tbody>\n",
       "</table>\n",
       "</div>"
      ],
      "text/plain": [
       "                                             value\n",
       "metric                                            \n",
       "measure_value                                  [%]\n",
       "record_affected_by_highest_risk              100.0\n",
       "sample_uniques                                 0.0\n",
       "estimated_prosecutor_risk        9.090909090909092\n",
       "population_model                            DANKAR\n",
       "records_affected_by_lowest_risk              100.0\n",
       "estimated_marketer_risk          9.090909090909092\n",
       "highest_prosecutor_risk          9.090909090909092\n",
       "estimated_journalist_risk        9.090909090909092\n",
       "lowest_risk                      9.090909090909092\n",
       "average_prosecutor_risk          9.090909090909092\n",
       "population_uniques                             0.0\n",
       "quasi_identifiers                               []"
      ]
     },
     "execution_count": 23,
     "metadata": {},
     "output_type": "execute_result"
    }
   ],
   "source": [
    "ametrics"
   ]
  },
  {
   "cell_type": "code",
   "execution_count": null,
   "metadata": {},
   "outputs": [],
   "source": []
  },
  {
   "cell_type": "code",
   "execution_count": null,
   "metadata": {},
   "outputs": [],
   "source": []
  }
 ],
 "metadata": {
  "kernelspec": {
   "display_name": "Python3(venv)",
   "language": "python",
   "name": "venv"
  },
  "language_info": {
   "codemirror_mode": {
    "name": "ipython",
    "version": 3
   },
   "file_extension": ".py",
   "mimetype": "text/x-python",
   "name": "python",
   "nbconvert_exporter": "python",
   "pygments_lexer": "ipython3",
   "version": "3.7.2"
  }
 },
 "nbformat": 4,
 "nbformat_minor": 2
}

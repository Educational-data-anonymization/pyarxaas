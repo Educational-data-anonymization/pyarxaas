{
 "cells": [
  {
   "cell_type": "markdown",
   "metadata": {},
   "source": [
    "## Example analyzation and anonymization of sensitive dataset"
   ]
  },
  {
   "cell_type": "code",
   "execution_count": 81,
   "metadata": {},
   "outputs": [],
   "source": [
    "from pyaaas import ARXaaS\n",
    "from pyaaas.privacy_models import KAnonymity, LDiversityDistinct\n",
    "from pyaaas.models.attribute_type import AttributeType\n",
    "from pyaaas.models.dataset import Dataset\n",
    "import pandas as pd"
   ]
  },
  {
   "cell_type": "markdown",
   "metadata": {},
   "source": [
    "#### Create ARXaaS connection"
   ]
  },
  {
   "cell_type": "code",
   "execution_count": 82,
   "metadata": {},
   "outputs": [],
   "source": [
    "import logging\n",
    "logging.basicConfig(level=logging.INFO)"
   ]
  },
  {
   "cell_type": "code",
   "execution_count": 83,
   "metadata": {},
   "outputs": [
    {
     "name": "stderr",
     "output_type": "stream",
     "text": [
      "INFO:pyaaas.aaas_connector:Connected to url=http://localhost:8080/ status=200\n"
     ]
    }
   ],
   "source": [
    "aaas = ARXaaS('http://localhost:8080/') # connecting to online service"
   ]
  },
  {
   "cell_type": "markdown",
   "metadata": {},
   "source": [
    "#### fetch sensitive data"
   ]
  },
  {
   "cell_type": "code",
   "execution_count": 84,
   "metadata": {},
   "outputs": [],
   "source": [
    "data_df = pd.read_csv(\"../data/data2.csv\", sep=\";\")"
   ]
  },
  {
   "cell_type": "code",
   "execution_count": 85,
   "metadata": {},
   "outputs": [
    {
     "data": {
      "text/html": [
       "<div>\n",
       "<style scoped>\n",
       "    .dataframe tbody tr th:only-of-type {\n",
       "        vertical-align: middle;\n",
       "    }\n",
       "\n",
       "    .dataframe tbody tr th {\n",
       "        vertical-align: top;\n",
       "    }\n",
       "\n",
       "    .dataframe thead th {\n",
       "        text-align: right;\n",
       "    }\n",
       "</style>\n",
       "<table border=\"1\" class=\"dataframe\">\n",
       "  <thead>\n",
       "    <tr style=\"text-align: right;\">\n",
       "      <th></th>\n",
       "      <th>zipcode</th>\n",
       "      <th>age</th>\n",
       "      <th>salary</th>\n",
       "      <th>disease</th>\n",
       "    </tr>\n",
       "  </thead>\n",
       "  <tbody>\n",
       "    <tr>\n",
       "      <th>0</th>\n",
       "      <td>47677</td>\n",
       "      <td>29</td>\n",
       "      <td>3</td>\n",
       "      <td>gastric ulcer</td>\n",
       "    </tr>\n",
       "    <tr>\n",
       "      <th>1</th>\n",
       "      <td>47602</td>\n",
       "      <td>22</td>\n",
       "      <td>4</td>\n",
       "      <td>gastritis</td>\n",
       "    </tr>\n",
       "    <tr>\n",
       "      <th>2</th>\n",
       "      <td>47678</td>\n",
       "      <td>27</td>\n",
       "      <td>5</td>\n",
       "      <td>stomach cancer</td>\n",
       "    </tr>\n",
       "    <tr>\n",
       "      <th>3</th>\n",
       "      <td>47905</td>\n",
       "      <td>43</td>\n",
       "      <td>6</td>\n",
       "      <td>gastritis</td>\n",
       "    </tr>\n",
       "    <tr>\n",
       "      <th>4</th>\n",
       "      <td>47909</td>\n",
       "      <td>52</td>\n",
       "      <td>11</td>\n",
       "      <td>flu</td>\n",
       "    </tr>\n",
       "    <tr>\n",
       "      <th>5</th>\n",
       "      <td>47906</td>\n",
       "      <td>47</td>\n",
       "      <td>8</td>\n",
       "      <td>bronchitis</td>\n",
       "    </tr>\n",
       "  </tbody>\n",
       "</table>\n",
       "</div>"
      ],
      "text/plain": [
       "   zipcode  age  salary         disease\n",
       "0    47677   29       3   gastric ulcer\n",
       "1    47602   22       4       gastritis\n",
       "2    47678   27       5  stomach cancer\n",
       "3    47905   43       6       gastritis\n",
       "4    47909   52      11             flu\n",
       "5    47906   47       8      bronchitis"
      ]
     },
     "execution_count": 85,
     "metadata": {},
     "output_type": "execute_result"
    }
   ],
   "source": [
    "data_df = data_df[:6]\n",
    "data_df"
   ]
  },
  {
   "cell_type": "markdown",
   "metadata": {},
   "source": [
    "### Create Dataset"
   ]
  },
  {
   "cell_type": "code",
   "execution_count": 86,
   "metadata": {},
   "outputs": [
    {
     "name": "stdout",
     "output_type": "stream",
     "text": [
      "data:\n",
      "  headers:\n",
      "    ['zipcode', 'age', 'salary', 'disease']\n",
      "rows:\n",
      "    [47677, 29, 3, 'gastric ulcer']\n",
      "    [47602, 22, 4, 'gastritis']\n",
      "    [47678, 27, 5, 'stomach cancer']\n",
      "    [47905, 43, 6, 'gastritis']\n",
      "    [47909, 52, 11, 'flu']\n",
      "    ...\n",
      "attributes:\n",
      "  field_name=zipcode, type=QUASIIDENTIFYING, hierarchy=None\n",
      "  field_name=age, type=QUASIIDENTIFYING, hierarchy=None\n",
      "  field_name=salary, type=QUASIIDENTIFYING, hierarchy=None\n",
      "  field_name=disease, type=QUASIIDENTIFYING, hierarchy=None\n",
      "\n"
     ]
    }
   ],
   "source": [
    "dataset = Dataset.from_pandas(data_df)\n",
    "dataset.describe()"
   ]
  },
  {
   "cell_type": "markdown",
   "metadata": {},
   "source": [
    "### Set the AttributeType for the dataset fields"
   ]
  },
  {
   "cell_type": "code",
   "execution_count": 87,
   "metadata": {},
   "outputs": [],
   "source": [
    "dataset.set_attribute_type(AttributeType.IDENTIFYING, 'salary')"
   ]
  },
  {
   "cell_type": "markdown",
   "metadata": {},
   "source": [
    "### Set Generalization Hierarchies\n",
    "Note that if the hierarchy does not have a header row in the csv file, please set header=None in read_csv() or the first row will be interpreted as a header and ARXaaS will throw an exception for the missing hierarchy data."
   ]
  },
  {
   "cell_type": "code",
   "execution_count": 88,
   "metadata": {},
   "outputs": [],
   "source": [
    "zipcode_hierarchy = pd.read_csv(\"../data/data2_zipcode_hierarchy.csv\", sep=\";\", header=None)\n",
    "age_hierarchy = pd.read_csv(\"../data/data2_age_hierarchy.csv\", sep=\";\", header=None)\n",
    "disease_hierarchy = pd.read_csv(\"../data/data2_disease_hierarchy.csv\", sep=\";\", header=None)"
   ]
  },
  {
   "cell_type": "code",
   "execution_count": 89,
   "metadata": {},
   "outputs": [
    {
     "data": {
      "text/html": [
       "<div>\n",
       "<style scoped>\n",
       "    .dataframe tbody tr th:only-of-type {\n",
       "        vertical-align: middle;\n",
       "    }\n",
       "\n",
       "    .dataframe tbody tr th {\n",
       "        vertical-align: top;\n",
       "    }\n",
       "\n",
       "    .dataframe thead th {\n",
       "        text-align: right;\n",
       "    }\n",
       "</style>\n",
       "<table border=\"1\" class=\"dataframe\">\n",
       "  <thead>\n",
       "    <tr style=\"text-align: right;\">\n",
       "      <th></th>\n",
       "      <th>0</th>\n",
       "      <th>1</th>\n",
       "    </tr>\n",
       "  </thead>\n",
       "  <tbody>\n",
       "    <tr>\n",
       "      <th>0</th>\n",
       "      <td>22</td>\n",
       "      <td>[22, 53[</td>\n",
       "    </tr>\n",
       "    <tr>\n",
       "      <th>1</th>\n",
       "      <td>27</td>\n",
       "      <td>[22, 53[</td>\n",
       "    </tr>\n",
       "    <tr>\n",
       "      <th>2</th>\n",
       "      <td>29</td>\n",
       "      <td>[22, 53[</td>\n",
       "    </tr>\n",
       "    <tr>\n",
       "      <th>3</th>\n",
       "      <td>30</td>\n",
       "      <td>[22, 53[</td>\n",
       "    </tr>\n",
       "    <tr>\n",
       "      <th>4</th>\n",
       "      <td>32</td>\n",
       "      <td>[22, 53[</td>\n",
       "    </tr>\n",
       "    <tr>\n",
       "      <th>5</th>\n",
       "      <td>36</td>\n",
       "      <td>[22, 53[</td>\n",
       "    </tr>\n",
       "    <tr>\n",
       "      <th>6</th>\n",
       "      <td>43</td>\n",
       "      <td>[22, 53[</td>\n",
       "    </tr>\n",
       "    <tr>\n",
       "      <th>7</th>\n",
       "      <td>47</td>\n",
       "      <td>[22, 53[</td>\n",
       "    </tr>\n",
       "    <tr>\n",
       "      <th>8</th>\n",
       "      <td>52</td>\n",
       "      <td>[22, 53[</td>\n",
       "    </tr>\n",
       "  </tbody>\n",
       "</table>\n",
       "</div>"
      ],
      "text/plain": [
       "    0         1\n",
       "0  22  [22, 53[\n",
       "1  27  [22, 53[\n",
       "2  29  [22, 53[\n",
       "3  30  [22, 53[\n",
       "4  32  [22, 53[\n",
       "5  36  [22, 53[\n",
       "6  43  [22, 53[\n",
       "7  47  [22, 53[\n",
       "8  52  [22, 53["
      ]
     },
     "execution_count": 89,
     "metadata": {},
     "output_type": "execute_result"
    }
   ],
   "source": [
    "age_hierarchy"
   ]
  },
  {
   "cell_type": "code",
   "execution_count": 90,
   "metadata": {},
   "outputs": [],
   "source": [
    "dataset.set_hierarchy(\"age\", age_hierarchy)\n",
    "dataset.set_hierarchy(\"zipcode\", zipcode_hierarchy)\n",
    "dataset.set_hierarchy(\"disease\", disease_hierarchy)"
   ]
  },
  {
   "cell_type": "markdown",
   "metadata": {},
   "source": [
    "### Create Privacy Models"
   ]
  },
  {
   "cell_type": "code",
   "execution_count": 91,
   "metadata": {},
   "outputs": [],
   "source": [
    "kanon = KAnonymity(2)"
   ]
  },
  {
   "cell_type": "markdown",
   "metadata": {},
   "source": [
    "### Create Risk Profile"
   ]
  },
  {
   "cell_type": "code",
   "execution_count": 92,
   "metadata": {},
   "outputs": [],
   "source": [
    "risk_profile = aaas.risk_profile(dataset)"
   ]
  },
  {
   "cell_type": "code",
   "execution_count": 93,
   "metadata": {},
   "outputs": [
    {
     "data": {
      "text/plain": [
       "{'Prosecutor_attacker_success_rate': '100.0',\n",
       " 'records_affected_by_highest_prosecutor_risk': '100.0',\n",
       " 'sample_uniques': '100.0',\n",
       " 'estimated_prosecutor_risk': '100.0',\n",
       " 'population_model': 'ZAYATZ',\n",
       " 'highest_journalist_risk': '100.0',\n",
       " 'records_affected_by_lowest_risk': '100.0',\n",
       " 'estimated_marketer_risk': '100.0',\n",
       " 'Journalist_attacker_success_rate': '100.0',\n",
       " 'highest_prosecutor_risk': '100.0',\n",
       " 'estimated_journalist_risk': '100.0',\n",
       " 'lowest_risk': '100.0',\n",
       " 'Marketer_attacker_success_rate': '100.0',\n",
       " 'average_prosecutor_risk': '100.0',\n",
       " 'records_affected_by_highest_journalist_risk': '100.0',\n",
       " 'population_uniques': '100.0',\n",
       " 'quasi_identifiers': '[zipcode, disease, age]'}"
      ]
     },
     "execution_count": 93,
     "metadata": {},
     "output_type": "execute_result"
    }
   ],
   "source": [
    "risk_profile.re_identification_risk"
   ]
  },
  {
   "cell_type": "code",
   "execution_count": 94,
   "metadata": {
    "scrolled": true
   },
   "outputs": [
    {
     "data": {
      "text/html": [
       "<div>\n",
       "<style scoped>\n",
       "    .dataframe tbody tr th:only-of-type {\n",
       "        vertical-align: middle;\n",
       "    }\n",
       "\n",
       "    .dataframe tbody tr th {\n",
       "        vertical-align: top;\n",
       "    }\n",
       "\n",
       "    .dataframe thead th {\n",
       "        text-align: right;\n",
       "    }\n",
       "</style>\n",
       "<table border=\"1\" class=\"dataframe\">\n",
       "  <thead>\n",
       "    <tr style=\"text-align: right;\">\n",
       "      <th></th>\n",
       "      <th>interval</th>\n",
       "      <th>recordsWithMaxmalRiskWithinInterval</th>\n",
       "      <th>recordsWithRiskWithinInteval</th>\n",
       "    </tr>\n",
       "  </thead>\n",
       "  <tbody>\n",
       "    <tr>\n",
       "      <th>0</th>\n",
       "      <td>]50,100]</td>\n",
       "      <td>1.0</td>\n",
       "      <td>1.0</td>\n",
       "    </tr>\n",
       "    <tr>\n",
       "      <th>1</th>\n",
       "      <td>]33.4,50]</td>\n",
       "      <td>0.0</td>\n",
       "      <td>0.0</td>\n",
       "    </tr>\n",
       "    <tr>\n",
       "      <th>2</th>\n",
       "      <td>]25,33.4]</td>\n",
       "      <td>0.0</td>\n",
       "      <td>0.0</td>\n",
       "    </tr>\n",
       "    <tr>\n",
       "      <th>3</th>\n",
       "      <td>]20,25]</td>\n",
       "      <td>0.0</td>\n",
       "      <td>0.0</td>\n",
       "    </tr>\n",
       "    <tr>\n",
       "      <th>4</th>\n",
       "      <td>]16.7,20]</td>\n",
       "      <td>0.0</td>\n",
       "      <td>0.0</td>\n",
       "    </tr>\n",
       "  </tbody>\n",
       "</table>\n",
       "</div>"
      ],
      "text/plain": [
       "    interval  recordsWithMaxmalRiskWithinInterval  \\\n",
       "0   ]50,100]                                  1.0   \n",
       "1  ]33.4,50]                                  0.0   \n",
       "2  ]25,33.4]                                  0.0   \n",
       "3    ]20,25]                                  0.0   \n",
       "4  ]16.7,20]                                  0.0   \n",
       "\n",
       "   recordsWithRiskWithinInteval  \n",
       "0                           1.0  \n",
       "1                           0.0  \n",
       "2                           0.0  \n",
       "3                           0.0  \n",
       "4                           0.0  "
      ]
     },
     "execution_count": 94,
     "metadata": {},
     "output_type": "execute_result"
    }
   ],
   "source": [
    "risk_profile.distribution_of_risk_dataframe().head()"
   ]
  },
  {
   "cell_type": "markdown",
   "metadata": {},
   "source": [
    "## Anonymize"
   ]
  },
  {
   "cell_type": "code",
   "execution_count": 95,
   "metadata": {},
   "outputs": [],
   "source": [
    "anon_result = aaas.anonymize(dataset, [kanon])"
   ]
  },
  {
   "cell_type": "code",
   "execution_count": 96,
   "metadata": {},
   "outputs": [
    {
     "data": {
      "text/html": [
       "<div>\n",
       "<style scoped>\n",
       "    .dataframe tbody tr th:only-of-type {\n",
       "        vertical-align: middle;\n",
       "    }\n",
       "\n",
       "    .dataframe tbody tr th {\n",
       "        vertical-align: top;\n",
       "    }\n",
       "\n",
       "    .dataframe thead th {\n",
       "        text-align: right;\n",
       "    }\n",
       "</style>\n",
       "<table border=\"1\" class=\"dataframe\">\n",
       "  <thead>\n",
       "    <tr style=\"text-align: right;\">\n",
       "      <th></th>\n",
       "      <th>zipcode</th>\n",
       "      <th>age</th>\n",
       "      <th>salary</th>\n",
       "      <th>disease</th>\n",
       "    </tr>\n",
       "  </thead>\n",
       "  <tbody>\n",
       "    <tr>\n",
       "      <th>0</th>\n",
       "      <td>47***</td>\n",
       "      <td>[22, 53[</td>\n",
       "      <td>*</td>\n",
       "      <td>stomach disease</td>\n",
       "    </tr>\n",
       "    <tr>\n",
       "      <th>1</th>\n",
       "      <td>47***</td>\n",
       "      <td>[22, 53[</td>\n",
       "      <td>*</td>\n",
       "      <td>stomach disease</td>\n",
       "    </tr>\n",
       "    <tr>\n",
       "      <th>2</th>\n",
       "      <td>47***</td>\n",
       "      <td>[22, 53[</td>\n",
       "      <td>*</td>\n",
       "      <td>stomach disease</td>\n",
       "    </tr>\n",
       "    <tr>\n",
       "      <th>3</th>\n",
       "      <td>47***</td>\n",
       "      <td>[22, 53[</td>\n",
       "      <td>*</td>\n",
       "      <td>stomach disease</td>\n",
       "    </tr>\n",
       "    <tr>\n",
       "      <th>4</th>\n",
       "      <td>47***</td>\n",
       "      <td>[22, 53[</td>\n",
       "      <td>*</td>\n",
       "      <td>respiratory infection</td>\n",
       "    </tr>\n",
       "    <tr>\n",
       "      <th>5</th>\n",
       "      <td>47***</td>\n",
       "      <td>[22, 53[</td>\n",
       "      <td>*</td>\n",
       "      <td>respiratory infection</td>\n",
       "    </tr>\n",
       "  </tbody>\n",
       "</table>\n",
       "</div>"
      ],
      "text/plain": [
       "  zipcode       age salary                disease\n",
       "0   47***  [22, 53[      *        stomach disease\n",
       "1   47***  [22, 53[      *        stomach disease\n",
       "2   47***  [22, 53[      *        stomach disease\n",
       "3   47***  [22, 53[      *        stomach disease\n",
       "4   47***  [22, 53[      *  respiratory infection\n",
       "5   47***  [22, 53[      *  respiratory infection"
      ]
     },
     "execution_count": 96,
     "metadata": {},
     "output_type": "execute_result"
    }
   ],
   "source": [
    "anon_result.dataset.to_dataframe()"
   ]
  },
  {
   "cell_type": "markdown",
   "metadata": {},
   "source": [
    "#### Anonymization Status"
   ]
  },
  {
   "cell_type": "code",
   "execution_count": 97,
   "metadata": {},
   "outputs": [
    {
     "data": {
      "text/plain": [
       "'ANONYMOUS'"
      ]
     },
     "execution_count": 97,
     "metadata": {},
     "output_type": "execute_result"
    }
   ],
   "source": [
    "anon_result.anonymization_status"
   ]
  },
  {
   "cell_type": "markdown",
   "metadata": {},
   "source": [
    "#### RiskProfile for the anonymized dataset"
   ]
  },
  {
   "cell_type": "code",
   "execution_count": 98,
   "metadata": {},
   "outputs": [],
   "source": [
    "anon_rp = anon_result.risk_profile"
   ]
  },
  {
   "cell_type": "code",
   "execution_count": 99,
   "metadata": {},
   "outputs": [
    {
     "data": {
      "text/plain": [
       "{'Prosecutor_attacker_success_rate': '33.33333333333333',\n",
       " 'records_affected_by_highest_prosecutor_risk': '33.33333333333333',\n",
       " 'sample_uniques': '0.0',\n",
       " 'estimated_prosecutor_risk': '50.0',\n",
       " 'population_model': 'DANKAR',\n",
       " 'highest_journalist_risk': '50.0',\n",
       " 'records_affected_by_lowest_risk': '66.66666666666666',\n",
       " 'estimated_marketer_risk': '33.33333333333333',\n",
       " 'Journalist_attacker_success_rate': '33.33333333333333',\n",
       " 'highest_prosecutor_risk': '50.0',\n",
       " 'estimated_journalist_risk': '50.0',\n",
       " 'lowest_risk': '25.0',\n",
       " 'Marketer_attacker_success_rate': '33.33333333333333',\n",
       " 'average_prosecutor_risk': '33.33333333333333',\n",
       " 'records_affected_by_highest_journalist_risk': '33.33333333333333',\n",
       " 'population_uniques': '0.0',\n",
       " 'quasi_identifiers': '[zipcode, disease, age]'}"
      ]
     },
     "execution_count": 99,
     "metadata": {},
     "output_type": "execute_result"
    }
   ],
   "source": [
    "anon_rp.re_identification_risk"
   ]
  },
  {
   "cell_type": "code",
   "execution_count": 100,
   "metadata": {},
   "outputs": [
    {
     "data": {
      "text/html": [
       "<div>\n",
       "<style scoped>\n",
       "    .dataframe tbody tr th:only-of-type {\n",
       "        vertical-align: middle;\n",
       "    }\n",
       "\n",
       "    .dataframe tbody tr th {\n",
       "        vertical-align: top;\n",
       "    }\n",
       "\n",
       "    .dataframe thead th {\n",
       "        text-align: right;\n",
       "    }\n",
       "</style>\n",
       "<table border=\"1\" class=\"dataframe\">\n",
       "  <thead>\n",
       "    <tr style=\"text-align: right;\">\n",
       "      <th></th>\n",
       "      <th>interval</th>\n",
       "      <th>recordsWithMaxmalRiskWithinInterval</th>\n",
       "      <th>recordsWithRiskWithinInteval</th>\n",
       "    </tr>\n",
       "  </thead>\n",
       "  <tbody>\n",
       "    <tr>\n",
       "      <th>0</th>\n",
       "      <td>]50,100]</td>\n",
       "      <td>1.000000</td>\n",
       "      <td>0.000000</td>\n",
       "    </tr>\n",
       "    <tr>\n",
       "      <th>1</th>\n",
       "      <td>]33.4,50]</td>\n",
       "      <td>1.000000</td>\n",
       "      <td>0.333333</td>\n",
       "    </tr>\n",
       "    <tr>\n",
       "      <th>2</th>\n",
       "      <td>]25,33.4]</td>\n",
       "      <td>0.666667</td>\n",
       "      <td>0.000000</td>\n",
       "    </tr>\n",
       "    <tr>\n",
       "      <th>3</th>\n",
       "      <td>]20,25]</td>\n",
       "      <td>0.666667</td>\n",
       "      <td>0.666667</td>\n",
       "    </tr>\n",
       "    <tr>\n",
       "      <th>4</th>\n",
       "      <td>]16.7,20]</td>\n",
       "      <td>0.000000</td>\n",
       "      <td>0.000000</td>\n",
       "    </tr>\n",
       "    <tr>\n",
       "      <th>5</th>\n",
       "      <td>]14.3,16.7]</td>\n",
       "      <td>0.000000</td>\n",
       "      <td>0.000000</td>\n",
       "    </tr>\n",
       "    <tr>\n",
       "      <th>6</th>\n",
       "      <td>]12.5,14.3]</td>\n",
       "      <td>0.000000</td>\n",
       "      <td>0.000000</td>\n",
       "    </tr>\n",
       "    <tr>\n",
       "      <th>7</th>\n",
       "      <td>]10,12.5]</td>\n",
       "      <td>0.000000</td>\n",
       "      <td>0.000000</td>\n",
       "    </tr>\n",
       "    <tr>\n",
       "      <th>8</th>\n",
       "      <td>]9,10]</td>\n",
       "      <td>0.000000</td>\n",
       "      <td>0.000000</td>\n",
       "    </tr>\n",
       "    <tr>\n",
       "      <th>9</th>\n",
       "      <td>]8,9]</td>\n",
       "      <td>0.000000</td>\n",
       "      <td>0.000000</td>\n",
       "    </tr>\n",
       "  </tbody>\n",
       "</table>\n",
       "</div>"
      ],
      "text/plain": [
       "      interval  recordsWithMaxmalRiskWithinInterval  \\\n",
       "0     ]50,100]                             1.000000   \n",
       "1    ]33.4,50]                             1.000000   \n",
       "2    ]25,33.4]                             0.666667   \n",
       "3      ]20,25]                             0.666667   \n",
       "4    ]16.7,20]                             0.000000   \n",
       "5  ]14.3,16.7]                             0.000000   \n",
       "6  ]12.5,14.3]                             0.000000   \n",
       "7    ]10,12.5]                             0.000000   \n",
       "8       ]9,10]                             0.000000   \n",
       "9        ]8,9]                             0.000000   \n",
       "\n",
       "   recordsWithRiskWithinInteval  \n",
       "0                      0.000000  \n",
       "1                      0.333333  \n",
       "2                      0.000000  \n",
       "3                      0.666667  \n",
       "4                      0.000000  \n",
       "5                      0.000000  \n",
       "6                      0.000000  \n",
       "7                      0.000000  \n",
       "8                      0.000000  \n",
       "9                      0.000000  "
      ]
     },
     "execution_count": 100,
     "metadata": {},
     "output_type": "execute_result"
    }
   ],
   "source": [
    "anon_rp.distribution_of_risk_dataframe().head(10)"
   ]
  },
  {
   "cell_type": "code",
   "execution_count": null,
   "metadata": {},
   "outputs": [],
   "source": []
  },
  {
   "cell_type": "code",
   "execution_count": null,
   "metadata": {},
   "outputs": [],
   "source": []
  },
  {
   "cell_type": "code",
   "execution_count": null,
   "metadata": {},
   "outputs": [],
   "source": []
  }
 ],
 "metadata": {
  "kernelspec": {
   "display_name": "Python 3",
   "language": "python",
   "name": "python3"
  },
  "language_info": {
   "codemirror_mode": {
    "name": "ipython",
    "version": 3
   },
   "file_extension": ".py",
   "mimetype": "text/x-python",
   "name": "python",
   "nbconvert_exporter": "python",
   "pygments_lexer": "ipython3",
   "version": "3.7.3"
  }
 },
 "nbformat": 4,
 "nbformat_minor": 2
}

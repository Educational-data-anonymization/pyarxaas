{
 "cells": [
  {
   "cell_type": "markdown",
   "metadata": {},
   "source": [
    "## Example analyzation and anonymization of sensitive dataset"
   ]
  },
  {
   "cell_type": "code",
   "execution_count": 1,
   "metadata": {},
   "outputs": [
    {
     "ename": "ImportError",
     "evalue": "cannot import name 'AaaS' from 'pyaaas' (/home/lord/GIthub/PyAaaS/pyaaas/__init__.py)",
     "output_type": "error",
     "traceback": [
      "\u001b[0;31m---------------------------------------------------------------------------\u001b[0m",
      "\u001b[0;31mImportError\u001b[0m                               Traceback (most recent call last)",
      "\u001b[0;32m<ipython-input-1-f14e77943da1>\u001b[0m in \u001b[0;36m<module>\u001b[0;34m\u001b[0m\n\u001b[0;32m----> 1\u001b[0;31m \u001b[0;32mfrom\u001b[0m \u001b[0mpyaaas\u001b[0m \u001b[0;32mimport\u001b[0m \u001b[0mAaaS\u001b[0m\u001b[0;34m\u001b[0m\u001b[0;34m\u001b[0m\u001b[0m\n\u001b[0m\u001b[1;32m      2\u001b[0m \u001b[0;32mfrom\u001b[0m \u001b[0mpyaaas\u001b[0m\u001b[0;34m.\u001b[0m\u001b[0mprivacy_models\u001b[0m \u001b[0;32mimport\u001b[0m \u001b[0mKAnonymity\u001b[0m\u001b[0;34m,\u001b[0m \u001b[0mLDiversityDistinct\u001b[0m\u001b[0;34m\u001b[0m\u001b[0;34m\u001b[0m\u001b[0m\n\u001b[1;32m      3\u001b[0m \u001b[0;32mfrom\u001b[0m \u001b[0mpyaaas\u001b[0m \u001b[0;32mimport\u001b[0m \u001b[0mAttributeType\u001b[0m\u001b[0;34m\u001b[0m\u001b[0;34m\u001b[0m\u001b[0m\n\u001b[1;32m      4\u001b[0m \u001b[0;32mfrom\u001b[0m \u001b[0mpyaaas\u001b[0m \u001b[0;32mimport\u001b[0m \u001b[0mDataset\u001b[0m\u001b[0;34m\u001b[0m\u001b[0;34m\u001b[0m\u001b[0m\n\u001b[1;32m      5\u001b[0m \u001b[0;32mimport\u001b[0m \u001b[0mpandas\u001b[0m \u001b[0;32mas\u001b[0m \u001b[0mpd\u001b[0m\u001b[0;34m\u001b[0m\u001b[0;34m\u001b[0m\u001b[0m\n",
      "\u001b[0;31mImportError\u001b[0m: cannot import name 'AaaS' from 'pyaaas' (/home/lord/GIthub/PyAaaS/pyaaas/__init__.py)"
     ]
    }
   ],
   "source": [
    "from pyaaas import AaaS\n",
    "from pyaaas.privacy_models import KAnonymity, LDiversityDistinct\n",
    "from pyaaas import AttributeType\n",
    "from pyaaas import Dataset\n",
    "import pandas as pd"
   ]
  },
  {
   "cell_type": "markdown",
   "metadata": {},
   "source": [
    "#### Create ARXaaS connection"
   ]
  },
  {
   "cell_type": "code",
   "execution_count": null,
   "metadata": {},
   "outputs": [],
   "source": [
    "import logging\n",
    "logging.basicConfig(level=logging.INFO)"
   ]
  },
  {
   "cell_type": "code",
   "execution_count": 2,
   "metadata": {},
   "outputs": [
    {
     "ename": "NameError",
     "evalue": "name 'AaaS' is not defined",
     "output_type": "error",
     "traceback": [
      "\u001b[0;31m---------------------------------------------------------------------------\u001b[0m",
      "\u001b[0;31mNameError\u001b[0m                                 Traceback (most recent call last)",
      "\u001b[0;32m<ipython-input-2-4449bacc4937>\u001b[0m in \u001b[0;36m<module>\u001b[0;34m\u001b[0m\n\u001b[0;32m----> 1\u001b[0;31m \u001b[0maaas\u001b[0m \u001b[0;34m=\u001b[0m \u001b[0mAaaS\u001b[0m\u001b[0;34m(\u001b[0m\u001b[0;34m\"http://localhost\"\u001b[0m\u001b[0;34m)\u001b[0m \u001b[0;31m# connecting to online service\u001b[0m\u001b[0;34m\u001b[0m\u001b[0;34m\u001b[0m\u001b[0m\n\u001b[0m",
      "\u001b[0;31mNameError\u001b[0m: name 'AaaS' is not defined"
     ]
    }
   ],
   "source": [
    "aaas = AaaS(\"http://localhost\") # connecting to online service"
   ]
  },
  {
   "cell_type": "markdown",
   "metadata": {},
   "source": [
    "#### fetch sensitive data"
   ]
  },
  {
   "cell_type": "code",
   "execution_count": 3,
   "metadata": {},
   "outputs": [
    {
     "ename": "NameError",
     "evalue": "name 'pd' is not defined",
     "output_type": "error",
     "traceback": [
      "\u001b[0;31m---------------------------------------------------------------------------\u001b[0m",
      "\u001b[0;31mNameError\u001b[0m                                 Traceback (most recent call last)",
      "\u001b[0;32m<ipython-input-3-64513dabf2c6>\u001b[0m in \u001b[0;36m<module>\u001b[0;34m\u001b[0m\n\u001b[0;32m----> 1\u001b[0;31m \u001b[0mdata_df\u001b[0m \u001b[0;34m=\u001b[0m \u001b[0mpd\u001b[0m\u001b[0;34m.\u001b[0m\u001b[0mread_csv\u001b[0m\u001b[0;34m(\u001b[0m\u001b[0;34m\"../data/data2.csv\"\u001b[0m\u001b[0;34m,\u001b[0m \u001b[0msep\u001b[0m\u001b[0;34m=\u001b[0m\u001b[0;34m\";\"\u001b[0m\u001b[0;34m)\u001b[0m\u001b[0;34m\u001b[0m\u001b[0;34m\u001b[0m\u001b[0m\n\u001b[0m",
      "\u001b[0;31mNameError\u001b[0m: name 'pd' is not defined"
     ]
    }
   ],
   "source": [
    "data_df = pd.read_csv(\"../data/data2.csv\", sep=\";\")"
   ]
  },
  {
   "cell_type": "code",
   "execution_count": 9,
   "metadata": {},
   "outputs": [
    {
     "data": {
      "text/html": [
       "<div>\n",
       "<style scoped>\n",
       "    .dataframe tbody tr th:only-of-type {\n",
       "        vertical-align: middle;\n",
       "    }\n",
       "\n",
       "    .dataframe tbody tr th {\n",
       "        vertical-align: top;\n",
       "    }\n",
       "\n",
       "    .dataframe thead th {\n",
       "        text-align: right;\n",
       "    }\n",
       "</style>\n",
       "<table border=\"1\" class=\"dataframe\">\n",
       "  <thead>\n",
       "    <tr style=\"text-align: right;\">\n",
       "      <th></th>\n",
       "      <th>zipcode</th>\n",
       "      <th>age</th>\n",
       "      <th>salary</th>\n",
       "      <th>disease</th>\n",
       "    </tr>\n",
       "  </thead>\n",
       "  <tbody>\n",
       "    <tr>\n",
       "      <th>0</th>\n",
       "      <td>47677</td>\n",
       "      <td>29</td>\n",
       "      <td>3</td>\n",
       "      <td>gastric ulcer</td>\n",
       "    </tr>\n",
       "    <tr>\n",
       "      <th>1</th>\n",
       "      <td>47602</td>\n",
       "      <td>22</td>\n",
       "      <td>4</td>\n",
       "      <td>gastritis</td>\n",
       "    </tr>\n",
       "    <tr>\n",
       "      <th>2</th>\n",
       "      <td>47678</td>\n",
       "      <td>27</td>\n",
       "      <td>5</td>\n",
       "      <td>stomach cancer</td>\n",
       "    </tr>\n",
       "    <tr>\n",
       "      <th>3</th>\n",
       "      <td>47905</td>\n",
       "      <td>43</td>\n",
       "      <td>6</td>\n",
       "      <td>gastritis</td>\n",
       "    </tr>\n",
       "    <tr>\n",
       "      <th>4</th>\n",
       "      <td>47909</td>\n",
       "      <td>52</td>\n",
       "      <td>11</td>\n",
       "      <td>flu</td>\n",
       "    </tr>\n",
       "    <tr>\n",
       "      <th>5</th>\n",
       "      <td>47906</td>\n",
       "      <td>47</td>\n",
       "      <td>8</td>\n",
       "      <td>bronchitis</td>\n",
       "    </tr>\n",
       "  </tbody>\n",
       "</table>\n",
       "</div>"
      ],
      "text/plain": [
       "   zipcode  age  salary         disease\n",
       "0    47677   29       3   gastric ulcer\n",
       "1    47602   22       4       gastritis\n",
       "2    47678   27       5  stomach cancer\n",
       "3    47905   43       6       gastritis\n",
       "4    47909   52      11             flu\n",
       "5    47906   47       8      bronchitis"
      ]
     },
     "execution_count": 9,
     "metadata": {},
     "output_type": "execute_result"
    }
   ],
   "source": [
    "data_df = data_df[:6]\n",
    "data_df"
   ]
  },
  {
   "cell_type": "markdown",
   "metadata": {},
   "source": [
    "### Create Dataset"
   ]
  },
  {
   "cell_type": "code",
   "execution_count": 10,
   "metadata": {},
   "outputs": [
    {
     "name": "stdout",
     "output_type": "stream",
     "text": [
      "data:\n",
      "  headers:\n",
      "    ['zipcode', 'age', 'salary', 'disease']\n",
      "rows:\n",
      "    [47677, 29, 3, 'gastric ulcer']\n",
      "    [47602, 22, 4, 'gastritis']\n",
      "    [47678, 27, 5, 'stomach cancer']\n",
      "    [47905, 43, 6, 'gastritis']\n",
      "    [47909, 52, 11, 'flu']\n",
      "    ...\n",
      "attributes:\n",
      "  field_name=zipcode, type=QUASIIDENTIFYING, hierarchy=None\n",
      "  field_name=age, type=QUASIIDENTIFYING, hierarchy=None\n",
      "  field_name=salary, type=QUASIIDENTIFYING, hierarchy=None\n",
      "  field_name=disease, type=QUASIIDENTIFYING, hierarchy=None\n",
      "\n"
     ]
    }
   ],
   "source": [
    "dataset = Dataset.from_pandas(data_df)\n",
    "dataset.describe()"
   ]
  },
  {
   "cell_type": "markdown",
   "metadata": {},
   "source": [
    "### Set the AttributeType for the dataset fields"
   ]
  },
  {
   "cell_type": "code",
   "execution_count": 7,
   "metadata": {},
   "outputs": [],
   "source": [
    "dataset.set_attribute('salary',\n",
    "                       AttributeType.IDENTIFYING)"
   ]
  },
  {
   "cell_type": "markdown",
   "metadata": {},
   "source": [
    "### Set Generalization Hierarchies\n",
    "Note that if the hierarchy does not have a header row in the csv file, please set header=None in read_csv() or the first row will be interpreted as a header and ARXaaS will throw an exception for the missing hierarchy data."
   ]
  },
  {
   "cell_type": "code",
   "execution_count": 8,
   "metadata": {},
   "outputs": [],
   "source": [
    "zipcode_hierarchy = pd.read_csv(\"../data/data2_zipcode_hierarchy.csv\", sep=\";\", header=None)\n",
    "age_hierarchy = pd.read_csv(\"../data/data2_age_hierarchy.csv\", sep=\";\", header=None)\n",
    "disease_hierarchy = pd.read_csv(\"../data/data2_disease_hierarchy.csv\", sep=\";\", header=None)"
   ]
  },
  {
   "cell_type": "code",
   "execution_count": 9,
   "metadata": {},
   "outputs": [
    {
     "data": {
      "text/html": [
       "<div>\n",
       "<style scoped>\n",
       "    .dataframe tbody tr th:only-of-type {\n",
       "        vertical-align: middle;\n",
       "    }\n",
       "\n",
       "    .dataframe tbody tr th {\n",
       "        vertical-align: top;\n",
       "    }\n",
       "\n",
       "    .dataframe thead th {\n",
       "        text-align: right;\n",
       "    }\n",
       "</style>\n",
       "<table border=\"1\" class=\"dataframe\">\n",
       "  <thead>\n",
       "    <tr style=\"text-align: right;\">\n",
       "      <th></th>\n",
       "      <th>0</th>\n",
       "      <th>1</th>\n",
       "      <th>2</th>\n",
       "      <th>3</th>\n",
       "      <th>4</th>\n",
       "      <th>5</th>\n",
       "    </tr>\n",
       "  </thead>\n",
       "  <tbody>\n",
       "    <tr>\n",
       "      <th>0</th>\n",
       "      <td>47677</td>\n",
       "      <td>4767*</td>\n",
       "      <td>476**</td>\n",
       "      <td>47***</td>\n",
       "      <td>4****</td>\n",
       "      <td>*****</td>\n",
       "    </tr>\n",
       "    <tr>\n",
       "      <th>1</th>\n",
       "      <td>47602</td>\n",
       "      <td>4760*</td>\n",
       "      <td>476**</td>\n",
       "      <td>47***</td>\n",
       "      <td>4****</td>\n",
       "      <td>*****</td>\n",
       "    </tr>\n",
       "    <tr>\n",
       "      <th>2</th>\n",
       "      <td>47678</td>\n",
       "      <td>4767*</td>\n",
       "      <td>476**</td>\n",
       "      <td>47***</td>\n",
       "      <td>4****</td>\n",
       "      <td>*****</td>\n",
       "    </tr>\n",
       "    <tr>\n",
       "      <th>3</th>\n",
       "      <td>47905</td>\n",
       "      <td>4790*</td>\n",
       "      <td>479**</td>\n",
       "      <td>47***</td>\n",
       "      <td>4****</td>\n",
       "      <td>*****</td>\n",
       "    </tr>\n",
       "    <tr>\n",
       "      <th>4</th>\n",
       "      <td>47909</td>\n",
       "      <td>4790*</td>\n",
       "      <td>479**</td>\n",
       "      <td>47***</td>\n",
       "      <td>4****</td>\n",
       "      <td>*****</td>\n",
       "    </tr>\n",
       "    <tr>\n",
       "      <th>5</th>\n",
       "      <td>47906</td>\n",
       "      <td>4790*</td>\n",
       "      <td>479**</td>\n",
       "      <td>47***</td>\n",
       "      <td>4****</td>\n",
       "      <td>*****</td>\n",
       "    </tr>\n",
       "    <tr>\n",
       "      <th>6</th>\n",
       "      <td>47605</td>\n",
       "      <td>4760*</td>\n",
       "      <td>476**</td>\n",
       "      <td>47***</td>\n",
       "      <td>4****</td>\n",
       "      <td>*****</td>\n",
       "    </tr>\n",
       "    <tr>\n",
       "      <th>7</th>\n",
       "      <td>47673</td>\n",
       "      <td>4767*</td>\n",
       "      <td>476**</td>\n",
       "      <td>47***</td>\n",
       "      <td>4****</td>\n",
       "      <td>*****</td>\n",
       "    </tr>\n",
       "    <tr>\n",
       "      <th>8</th>\n",
       "      <td>47607</td>\n",
       "      <td>4760*</td>\n",
       "      <td>476**</td>\n",
       "      <td>47***</td>\n",
       "      <td>4****</td>\n",
       "      <td>*****</td>\n",
       "    </tr>\n",
       "  </tbody>\n",
       "</table>\n",
       "</div>"
      ],
      "text/plain": [
       "       0      1      2      3      4      5\n",
       "0  47677  4767*  476**  47***  4****  *****\n",
       "1  47602  4760*  476**  47***  4****  *****\n",
       "2  47678  4767*  476**  47***  4****  *****\n",
       "3  47905  4790*  479**  47***  4****  *****\n",
       "4  47909  4790*  479**  47***  4****  *****\n",
       "5  47906  4790*  479**  47***  4****  *****\n",
       "6  47605  4760*  476**  47***  4****  *****\n",
       "7  47673  4767*  476**  47***  4****  *****\n",
       "8  47607  4760*  476**  47***  4****  *****"
      ]
     },
     "execution_count": 9,
     "metadata": {},
     "output_type": "execute_result"
    }
   ],
   "source": [
    "zipcode_hierarchy"
   ]
  },
  {
   "cell_type": "code",
   "execution_count": 10,
   "metadata": {},
   "outputs": [],
   "source": [
    "dataset.set_hierarchy('age', age_hierarchy)\n",
    "dataset.set_hierarchy(\"zipcode\", zipcode_hierarchy)\n",
    "dataset.set_hierarchy(\"disease\", disease_hierarchy)"
   ]
  },
  {
   "cell_type": "markdown",
   "metadata": {},
   "source": [
    "### Create Privacy Models"
   ]
  },
  {
   "cell_type": "code",
   "execution_count": 11,
   "metadata": {},
   "outputs": [],
   "source": [
    "kanon = KAnonymity(2)"
   ]
  },
  {
   "cell_type": "markdown",
   "metadata": {},
   "source": [
    "### Create Risk Profile"
   ]
  },
  {
   "cell_type": "code",
   "execution_count": 12,
   "metadata": {},
   "outputs": [
    {
     "name": "stderr",
     "output_type": "stream",
     "text": [
      "INFO:pyaaas.aaas_connector:Connecting to ARXaaS service\n"
     ]
    },
    {
     "ename": "TypeError",
     "evalue": "'RequestDefinitionBuilder' object is not callable",
     "output_type": "error",
     "traceback": [
      "\u001b[0;31m---------------------------------------------------------------------------\u001b[0m",
      "\u001b[0;31mTypeError\u001b[0m                                 Traceback (most recent call last)",
      "\u001b[0;32m<ipython-input-12-92dc6bb17d6e>\u001b[0m in \u001b[0;36m<module>\u001b[0;34m\u001b[0m\n\u001b[0;32m----> 1\u001b[0;31m \u001b[0mrisk_profile\u001b[0m \u001b[0;34m=\u001b[0m \u001b[0maaas\u001b[0m\u001b[0;34m.\u001b[0m\u001b[0mrisk_profile\u001b[0m\u001b[0;34m(\u001b[0m\u001b[0mdataset\u001b[0m\u001b[0;34m)\u001b[0m\u001b[0;34m\u001b[0m\u001b[0;34m\u001b[0m\u001b[0m\n\u001b[0m",
      "\u001b[0;32m~/PycharmProjects/PyAaaS/pyaaas/aaas.py\u001b[0m in \u001b[0;36mrisk_profile\u001b[0;34m(self, dataset)\u001b[0m\n\u001b[1;32m     85\u001b[0m \u001b[0;34m\u001b[0m\u001b[0m\n\u001b[1;32m     86\u001b[0m         \u001b[0manalyze_request\u001b[0m \u001b[0;34m=\u001b[0m \u001b[0mself\u001b[0m\u001b[0;34m.\u001b[0m\u001b[0m_risk_profile_payload\u001b[0m\u001b[0;34m(\u001b[0m\u001b[0mdataset\u001b[0m\u001b[0;34m)\u001b[0m\u001b[0;34m\u001b[0m\u001b[0;34m\u001b[0m\u001b[0m\n\u001b[0;32m---> 87\u001b[0;31m         \u001b[0mresponse\u001b[0m \u001b[0;34m=\u001b[0m \u001b[0mself\u001b[0m\u001b[0;34m.\u001b[0m\u001b[0m_risk_profile\u001b[0m\u001b[0;34m(\u001b[0m\u001b[0manalyze_request\u001b[0m\u001b[0;34m)\u001b[0m\u001b[0;34m\u001b[0m\u001b[0;34m\u001b[0m\u001b[0m\n\u001b[0m\u001b[1;32m     88\u001b[0m         \u001b[0mmetric_dict\u001b[0m \u001b[0;34m=\u001b[0m \u001b[0mjson\u001b[0m\u001b[0;34m.\u001b[0m\u001b[0mloads\u001b[0m\u001b[0;34m(\u001b[0m\u001b[0mresponse\u001b[0m\u001b[0;34m.\u001b[0m\u001b[0mtext\u001b[0m\u001b[0;34m)\u001b[0m\u001b[0;34m\u001b[0m\u001b[0;34m\u001b[0m\u001b[0m\n\u001b[1;32m     89\u001b[0m         \u001b[0;32mreturn\u001b[0m \u001b[0mRiskProfile\u001b[0m\u001b[0;34m(\u001b[0m\u001b[0mmetric_dict\u001b[0m\u001b[0;34m)\u001b[0m\u001b[0;34m\u001b[0m\u001b[0;34m\u001b[0m\u001b[0m\n",
      "\u001b[0;32m~/PycharmProjects/PyAaaS/pyaaas/aaas.py\u001b[0m in \u001b[0;36m_risk_profile\u001b[0;34m(self, data_dict)\u001b[0m\n\u001b[1;32m    106\u001b[0m         \"\"\"\n\u001b[1;32m    107\u001b[0m \u001b[0;34m\u001b[0m\u001b[0m\n\u001b[0;32m--> 108\u001b[0;31m         \u001b[0mresponse\u001b[0m \u001b[0;34m=\u001b[0m \u001b[0mself\u001b[0m\u001b[0;34m.\u001b[0m\u001b[0m_connector\u001b[0m\u001b[0;34m.\u001b[0m\u001b[0mrisk_profile\u001b[0m\u001b[0;34m(\u001b[0m\u001b[0mdata_dict\u001b[0m\u001b[0;34m)\u001b[0m\u001b[0;34m\u001b[0m\u001b[0;34m\u001b[0m\u001b[0m\n\u001b[0m\u001b[1;32m    109\u001b[0m         \u001b[0;32mreturn\u001b[0m \u001b[0mresponse\u001b[0m\u001b[0;34m\u001b[0m\u001b[0;34m\u001b[0m\u001b[0m\n\u001b[1;32m    110\u001b[0m \u001b[0;34m\u001b[0m\u001b[0m\n",
      "\u001b[0;32m~/PycharmProjects/PyAaaS/pyaaas/aaas_connector.py\u001b[0m in \u001b[0;36mwrapper\u001b[0;34m(*args, **kwargs)\u001b[0m\n\u001b[1;32m     25\u001b[0m         \u001b[0mlogger\u001b[0m \u001b[0;34m=\u001b[0m \u001b[0mlogging\u001b[0m\u001b[0;34m.\u001b[0m\u001b[0mgetLogger\u001b[0m\u001b[0;34m(\u001b[0m\u001b[0m__name__\u001b[0m\u001b[0;34m)\u001b[0m\u001b[0;34m\u001b[0m\u001b[0;34m\u001b[0m\u001b[0m\n\u001b[1;32m     26\u001b[0m         \u001b[0mlogger\u001b[0m\u001b[0;34m.\u001b[0m\u001b[0minfo\u001b[0m\u001b[0;34m(\u001b[0m\u001b[0;34mf\"Connecting to ARXaaS service\"\u001b[0m\u001b[0;34m)\u001b[0m\u001b[0;34m\u001b[0m\u001b[0;34m\u001b[0m\u001b[0m\n\u001b[0;32m---> 27\u001b[0;31m         \u001b[0;32mreturn\u001b[0m \u001b[0mfunc\u001b[0m\u001b[0;34m(\u001b[0m\u001b[0;34m*\u001b[0m\u001b[0margs\u001b[0m\u001b[0;34m,\u001b[0m \u001b[0;34m**\u001b[0m\u001b[0mkwargs\u001b[0m\u001b[0;34m)\u001b[0m\u001b[0;34m\u001b[0m\u001b[0;34m\u001b[0m\u001b[0m\n\u001b[0m\u001b[1;32m     28\u001b[0m     \u001b[0;32mreturn\u001b[0m \u001b[0mwrapper\u001b[0m\u001b[0;34m\u001b[0m\u001b[0;34m\u001b[0m\u001b[0m\n\u001b[1;32m     29\u001b[0m \u001b[0;34m\u001b[0m\u001b[0m\n",
      "\u001b[0;31mTypeError\u001b[0m: 'RequestDefinitionBuilder' object is not callable"
     ]
    }
   ],
   "source": [
    "risk_profile = aaas.risk_profile(dataset)"
   ]
  },
  {
   "cell_type": "code",
   "execution_count": 15,
   "metadata": {},
   "outputs": [
    {
     "data": {
      "text/plain": [
       "{'Prosecutor_attacker_success_rate': '100.0',\n",
       " 'records_affected_by_highest_prosecutor_risk': '100.0',\n",
       " 'sample_uniques': '100.0',\n",
       " 'estimated_prosecutor_risk': '100.0',\n",
       " 'population_model': 'ZAYATZ',\n",
       " 'highest_journalist_risk': '100.0',\n",
       " 'records_affected_by_lowest_risk': '100.0',\n",
       " 'estimated_marketer_risk': '100.0',\n",
       " 'Journalist_attacker_success_rate': '100.0',\n",
       " 'highest_prosecutor_risk': '100.0',\n",
       " 'estimated_journalist_risk': '100.0',\n",
       " 'lowest_risk': '100.0',\n",
       " 'Marketer_attacker_success_rate': '100.0',\n",
       " 'average_prosecutor_risk': '100.0',\n",
       " 'records_affected_by_highest_journalist_risk': '100.0',\n",
       " 'population_uniques': '100.0',\n",
       " 'quasi_identifiers': '[zipcode, disease, age]'}"
      ]
     },
     "execution_count": 15,
     "metadata": {},
     "output_type": "execute_result"
    }
   ],
   "source": [
    "risk_profile.re_identification_risk"
   ]
  },
  {
   "cell_type": "code",
   "execution_count": 19,
   "metadata": {},
   "outputs": [
    {
     "data": {
      "text/html": [
       "<div>\n",
       "<style scoped>\n",
       "    .dataframe tbody tr th:only-of-type {\n",
       "        vertical-align: middle;\n",
       "    }\n",
       "\n",
       "    .dataframe tbody tr th {\n",
       "        vertical-align: top;\n",
       "    }\n",
       "\n",
       "    .dataframe thead th {\n",
       "        text-align: right;\n",
       "    }\n",
       "</style>\n",
       "<table border=\"1\" class=\"dataframe\">\n",
       "  <thead>\n",
       "    <tr style=\"text-align: right;\">\n",
       "      <th></th>\n",
       "      <th>interval</th>\n",
       "      <th>recordsWithMaxmalRiskWithinInterval</th>\n",
       "      <th>recordsWithRiskWithinInteval</th>\n",
       "    </tr>\n",
       "  </thead>\n",
       "  <tbody>\n",
       "    <tr>\n",
       "      <th>0</th>\n",
       "      <td>]50,100]</td>\n",
       "      <td>1.0</td>\n",
       "      <td>1.0</td>\n",
       "    </tr>\n",
       "    <tr>\n",
       "      <th>1</th>\n",
       "      <td>]33.4,50]</td>\n",
       "      <td>0.0</td>\n",
       "      <td>0.0</td>\n",
       "    </tr>\n",
       "    <tr>\n",
       "      <th>2</th>\n",
       "      <td>]25,33.4]</td>\n",
       "      <td>0.0</td>\n",
       "      <td>0.0</td>\n",
       "    </tr>\n",
       "    <tr>\n",
       "      <th>3</th>\n",
       "      <td>]20,25]</td>\n",
       "      <td>0.0</td>\n",
       "      <td>0.0</td>\n",
       "    </tr>\n",
       "    <tr>\n",
       "      <th>4</th>\n",
       "      <td>]16.7,20]</td>\n",
       "      <td>0.0</td>\n",
       "      <td>0.0</td>\n",
       "    </tr>\n",
       "  </tbody>\n",
       "</table>\n",
       "</div>"
      ],
      "text/plain": [
       "    interval  recordsWithMaxmalRiskWithinInterval  \\\n",
       "0   ]50,100]                                  1.0   \n",
       "1  ]33.4,50]                                  0.0   \n",
       "2  ]25,33.4]                                  0.0   \n",
       "3    ]20,25]                                  0.0   \n",
       "4  ]16.7,20]                                  0.0   \n",
       "\n",
       "   recordsWithRiskWithinInteval  \n",
       "0                           1.0  \n",
       "1                           0.0  \n",
       "2                           0.0  \n",
       "3                           0.0  \n",
       "4                           0.0  "
      ]
     },
     "execution_count": 19,
     "metadata": {},
     "output_type": "execute_result"
    }
   ],
   "source": [
    "risk_profile.distribution_of_risk_dataframe().head()"
   ]
  },
  {
   "cell_type": "code",
   "execution_count": null,
   "metadata": {},
   "outputs": [],
   "source": []
  },
  {
   "cell_type": "markdown",
   "metadata": {},
   "source": [
    "## Anonymize"
   ]
  },
  {
   "cell_type": "code",
   "execution_count": 20,
   "metadata": {},
   "outputs": [],
   "source": [
    "anon_result = aaas.anonymize(dataset, [kanon])"
   ]
  },
  {
   "cell_type": "code",
   "execution_count": 21,
   "metadata": {},
   "outputs": [
    {
     "data": {
      "text/html": [
       "<div>\n",
       "<style scoped>\n",
       "    .dataframe tbody tr th:only-of-type {\n",
       "        vertical-align: middle;\n",
       "    }\n",
       "\n",
       "    .dataframe tbody tr th {\n",
       "        vertical-align: top;\n",
       "    }\n",
       "\n",
       "    .dataframe thead th {\n",
       "        text-align: right;\n",
       "    }\n",
       "</style>\n",
       "<table border=\"1\" class=\"dataframe\">\n",
       "  <thead>\n",
       "    <tr style=\"text-align: right;\">\n",
       "      <th></th>\n",
       "      <th>zipcode</th>\n",
       "      <th>age</th>\n",
       "      <th>salary</th>\n",
       "      <th>disease</th>\n",
       "    </tr>\n",
       "  </thead>\n",
       "  <tbody>\n",
       "    <tr>\n",
       "      <th>0</th>\n",
       "      <td>476**</td>\n",
       "      <td>[20,30[</td>\n",
       "      <td>*</td>\n",
       "      <td>respiratory&amp;digestive disease</td>\n",
       "    </tr>\n",
       "    <tr>\n",
       "      <th>1</th>\n",
       "      <td>476**</td>\n",
       "      <td>[20,30[</td>\n",
       "      <td>*</td>\n",
       "      <td>respiratory&amp;digestive disease</td>\n",
       "    </tr>\n",
       "    <tr>\n",
       "      <th>2</th>\n",
       "      <td>476**</td>\n",
       "      <td>[20,30[</td>\n",
       "      <td>*</td>\n",
       "      <td>respiratory&amp;digestive disease</td>\n",
       "    </tr>\n",
       "    <tr>\n",
       "      <th>3</th>\n",
       "      <td>479**</td>\n",
       "      <td>&gt;=40</td>\n",
       "      <td>*</td>\n",
       "      <td>respiratory&amp;digestive disease</td>\n",
       "    </tr>\n",
       "    <tr>\n",
       "      <th>4</th>\n",
       "      <td>479**</td>\n",
       "      <td>&gt;=40</td>\n",
       "      <td>*</td>\n",
       "      <td>respiratory&amp;digestive disease</td>\n",
       "    </tr>\n",
       "    <tr>\n",
       "      <th>5</th>\n",
       "      <td>479**</td>\n",
       "      <td>&gt;=40</td>\n",
       "      <td>*</td>\n",
       "      <td>respiratory&amp;digestive disease</td>\n",
       "    </tr>\n",
       "    <tr>\n",
       "      <th>6</th>\n",
       "      <td>476**</td>\n",
       "      <td>[30,40[</td>\n",
       "      <td>*</td>\n",
       "      <td>respiratory&amp;digestive disease</td>\n",
       "    </tr>\n",
       "    <tr>\n",
       "      <th>7</th>\n",
       "      <td>476**</td>\n",
       "      <td>[30,40[</td>\n",
       "      <td>*</td>\n",
       "      <td>respiratory&amp;digestive disease</td>\n",
       "    </tr>\n",
       "    <tr>\n",
       "      <th>8</th>\n",
       "      <td>476**</td>\n",
       "      <td>[30,40[</td>\n",
       "      <td>*</td>\n",
       "      <td>respiratory&amp;digestive disease</td>\n",
       "    </tr>\n",
       "  </tbody>\n",
       "</table>\n",
       "</div>"
      ],
      "text/plain": [
       "  zipcode      age salary                        disease\n",
       "0   476**  [20,30[      *  respiratory&digestive disease\n",
       "1   476**  [20,30[      *  respiratory&digestive disease\n",
       "2   476**  [20,30[      *  respiratory&digestive disease\n",
       "3   479**     >=40      *  respiratory&digestive disease\n",
       "4   479**     >=40      *  respiratory&digestive disease\n",
       "5   479**     >=40      *  respiratory&digestive disease\n",
       "6   476**  [30,40[      *  respiratory&digestive disease\n",
       "7   476**  [30,40[      *  respiratory&digestive disease\n",
       "8   476**  [30,40[      *  respiratory&digestive disease"
      ]
     },
     "execution_count": 21,
     "metadata": {},
     "output_type": "execute_result"
    }
   ],
   "source": [
    "anon_result.dataset.to_dataframe()"
   ]
  },
  {
   "cell_type": "markdown",
   "metadata": {},
   "source": [
    "#### Anonymization Status"
   ]
  },
  {
   "cell_type": "code",
   "execution_count": 22,
   "metadata": {},
   "outputs": [
    {
     "data": {
      "text/plain": [
       "'ANONYMOUS'"
      ]
     },
     "execution_count": 22,
     "metadata": {},
     "output_type": "execute_result"
    }
   ],
   "source": [
    "anon_result.anonymization_status"
   ]
  },
  {
   "cell_type": "markdown",
   "metadata": {},
   "source": [
    "#### RiskProfile for the anonymized dataset"
   ]
  },
  {
   "cell_type": "code",
   "execution_count": 23,
   "metadata": {},
   "outputs": [],
   "source": [
    "anon_rp = anon_result.risk_profile"
   ]
  },
  {
   "cell_type": "code",
   "execution_count": 24,
   "metadata": {},
   "outputs": [
    {
     "data": {
      "text/plain": [
       "{'Prosecutor_attacker_success_rate': '33.33333333333333',\n",
       " 'records_affected_by_highest_prosecutor_risk': '100.0',\n",
       " 'sample_uniques': '0.0',\n",
       " 'estimated_prosecutor_risk': '33.33333333333333',\n",
       " 'population_model': 'DANKAR',\n",
       " 'highest_journalist_risk': '33.33333333333333',\n",
       " 'records_affected_by_lowest_risk': '100.0',\n",
       " 'estimated_marketer_risk': '33.33333333333333',\n",
       " 'Journalist_attacker_success_rate': '33.33333333333333',\n",
       " 'highest_prosecutor_risk': '33.33333333333333',\n",
       " 'estimated_journalist_risk': '33.33333333333333',\n",
       " 'lowest_risk': '33.33333333333333',\n",
       " 'Marketer_attacker_success_rate': '33.33333333333333',\n",
       " 'average_prosecutor_risk': '33.33333333333333',\n",
       " 'records_affected_by_highest_journalist_risk': '100.0',\n",
       " 'population_uniques': '0.0',\n",
       " 'quasi_identifiers': '[zipcode, disease, age]'}"
      ]
     },
     "execution_count": 24,
     "metadata": {},
     "output_type": "execute_result"
    }
   ],
   "source": [
    "anon_rp.re_identification_risk"
   ]
  },
  {
   "cell_type": "code",
   "execution_count": 25,
   "metadata": {},
   "outputs": [
    {
     "data": {
      "text/html": [
       "<div>\n",
       "<style scoped>\n",
       "    .dataframe tbody tr th:only-of-type {\n",
       "        vertical-align: middle;\n",
       "    }\n",
       "\n",
       "    .dataframe tbody tr th {\n",
       "        vertical-align: top;\n",
       "    }\n",
       "\n",
       "    .dataframe thead th {\n",
       "        text-align: right;\n",
       "    }\n",
       "</style>\n",
       "<table border=\"1\" class=\"dataframe\">\n",
       "  <thead>\n",
       "    <tr style=\"text-align: right;\">\n",
       "      <th></th>\n",
       "      <th>interval</th>\n",
       "      <th>recordsWithMaxmalRiskWithinInterval</th>\n",
       "      <th>recordsWithRiskWithinInteval</th>\n",
       "    </tr>\n",
       "  </thead>\n",
       "  <tbody>\n",
       "    <tr>\n",
       "      <th>0</th>\n",
       "      <td>]50,100]</td>\n",
       "      <td>1.0</td>\n",
       "      <td>0.0</td>\n",
       "    </tr>\n",
       "    <tr>\n",
       "      <th>1</th>\n",
       "      <td>]33.4,50]</td>\n",
       "      <td>1.0</td>\n",
       "      <td>0.0</td>\n",
       "    </tr>\n",
       "    <tr>\n",
       "      <th>2</th>\n",
       "      <td>]25,33.4]</td>\n",
       "      <td>1.0</td>\n",
       "      <td>1.0</td>\n",
       "    </tr>\n",
       "    <tr>\n",
       "      <th>3</th>\n",
       "      <td>]20,25]</td>\n",
       "      <td>0.0</td>\n",
       "      <td>0.0</td>\n",
       "    </tr>\n",
       "    <tr>\n",
       "      <th>4</th>\n",
       "      <td>]16.7,20]</td>\n",
       "      <td>0.0</td>\n",
       "      <td>0.0</td>\n",
       "    </tr>\n",
       "    <tr>\n",
       "      <th>5</th>\n",
       "      <td>]14.3,16.7]</td>\n",
       "      <td>0.0</td>\n",
       "      <td>0.0</td>\n",
       "    </tr>\n",
       "    <tr>\n",
       "      <th>6</th>\n",
       "      <td>]12.5,14.3]</td>\n",
       "      <td>0.0</td>\n",
       "      <td>0.0</td>\n",
       "    </tr>\n",
       "    <tr>\n",
       "      <th>7</th>\n",
       "      <td>]10,12.5]</td>\n",
       "      <td>0.0</td>\n",
       "      <td>0.0</td>\n",
       "    </tr>\n",
       "    <tr>\n",
       "      <th>8</th>\n",
       "      <td>]9,10]</td>\n",
       "      <td>0.0</td>\n",
       "      <td>0.0</td>\n",
       "    </tr>\n",
       "    <tr>\n",
       "      <th>9</th>\n",
       "      <td>]8,9]</td>\n",
       "      <td>0.0</td>\n",
       "      <td>0.0</td>\n",
       "    </tr>\n",
       "  </tbody>\n",
       "</table>\n",
       "</div>"
      ],
      "text/plain": [
       "      interval  recordsWithMaxmalRiskWithinInterval  \\\n",
       "0     ]50,100]                                  1.0   \n",
       "1    ]33.4,50]                                  1.0   \n",
       "2    ]25,33.4]                                  1.0   \n",
       "3      ]20,25]                                  0.0   \n",
       "4    ]16.7,20]                                  0.0   \n",
       "5  ]14.3,16.7]                                  0.0   \n",
       "6  ]12.5,14.3]                                  0.0   \n",
       "7    ]10,12.5]                                  0.0   \n",
       "8       ]9,10]                                  0.0   \n",
       "9        ]8,9]                                  0.0   \n",
       "\n",
       "   recordsWithRiskWithinInteval  \n",
       "0                           0.0  \n",
       "1                           0.0  \n",
       "2                           1.0  \n",
       "3                           0.0  \n",
       "4                           0.0  \n",
       "5                           0.0  \n",
       "6                           0.0  \n",
       "7                           0.0  \n",
       "8                           0.0  \n",
       "9                           0.0  "
      ]
     },
     "execution_count": 25,
     "metadata": {},
     "output_type": "execute_result"
    }
   ],
   "source": [
    "anon_rp.distribution_of_risk_dataframe().head(10)"
   ]
  },
  {
   "cell_type": "code",
   "execution_count": null,
   "metadata": {},
   "outputs": [],
   "source": []
  },
  {
   "cell_type": "code",
   "execution_count": null,
   "metadata": {},
   "outputs": [],
   "source": []
  },
  {
   "cell_type": "code",
   "execution_count": null,
   "metadata": {},
   "outputs": [],
   "source": []
  }
 ],
 "metadata": {
  "kernelspec": {
   "display_name": "Python 3",
   "language": "python",
   "name": "python3"
  },
  "language_info": {
   "codemirror_mode": {
    "name": "ipython",
    "version": 3
   },
   "file_extension": ".py",
   "mimetype": "text/x-python",
   "name": "python",
   "nbconvert_exporter": "python",
   "pygments_lexer": "ipython3",
   "version": "3.7.3"
  }
 },
 "nbformat": 4,
 "nbformat_minor": 2
}

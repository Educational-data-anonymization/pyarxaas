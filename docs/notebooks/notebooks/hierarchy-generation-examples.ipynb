{
 "cells": [
  {
   "cell_type": "markdown",
   "metadata": {},
   "source": [
    "# Hierachy generation using PyARXaaS"
   ]
  },
  {
   "cell_type": "code",
   "execution_count": 1,
   "metadata": {},
   "outputs": [],
   "source": [
    "from pyaaas import ARXaaS\n",
    "from pyaaas.privacy_models import KAnonymity, LDiversityDistinct\n",
    "from pyaaas import AttributeType\n",
    "from pyaaas import Dataset\n",
    "from pyaaas.models.hierarchy import IntervalHierarchyBuilder, RedactionHierarchyBuilder, OrderHierarchyBuilder\n",
    "import pandas as pd"
   ]
  },
  {
   "cell_type": "markdown",
   "metadata": {},
   "source": [
    "#### Create connection to ARXaaS"
   ]
  },
  {
   "cell_type": "code",
   "execution_count": 8,
   "metadata": {},
   "outputs": [],
   "source": [
    "arxaas = ARXaaS(\"http://localhost:8080\")"
   ]
  },
  {
   "cell_type": "markdown",
   "metadata": {},
   "source": [
    "#### Fetch data "
   ]
  },
  {
   "cell_type": "code",
   "execution_count": 2,
   "metadata": {},
   "outputs": [],
   "source": [
    "data_df = pd.read_csv(\"../data/data2.csv\", sep=\";\")"
   ]
  },
  {
   "cell_type": "code",
   "execution_count": 3,
   "metadata": {},
   "outputs": [
    {
     "data": {
      "text/html": [
       "<div>\n",
       "<style scoped>\n",
       "    .dataframe tbody tr th:only-of-type {\n",
       "        vertical-align: middle;\n",
       "    }\n",
       "\n",
       "    .dataframe tbody tr th {\n",
       "        vertical-align: top;\n",
       "    }\n",
       "\n",
       "    .dataframe thead th {\n",
       "        text-align: right;\n",
       "    }\n",
       "</style>\n",
       "<table border=\"1\" class=\"dataframe\">\n",
       "  <thead>\n",
       "    <tr style=\"text-align: right;\">\n",
       "      <th></th>\n",
       "      <th>zipcode</th>\n",
       "      <th>age</th>\n",
       "      <th>salary</th>\n",
       "      <th>disease</th>\n",
       "    </tr>\n",
       "  </thead>\n",
       "  <tbody>\n",
       "    <tr>\n",
       "      <th>0</th>\n",
       "      <td>47677</td>\n",
       "      <td>29</td>\n",
       "      <td>3</td>\n",
       "      <td>gastric ulcer</td>\n",
       "    </tr>\n",
       "    <tr>\n",
       "      <th>1</th>\n",
       "      <td>47602</td>\n",
       "      <td>22</td>\n",
       "      <td>4</td>\n",
       "      <td>gastritis</td>\n",
       "    </tr>\n",
       "    <tr>\n",
       "      <th>2</th>\n",
       "      <td>47678</td>\n",
       "      <td>27</td>\n",
       "      <td>5</td>\n",
       "      <td>stomach cancer</td>\n",
       "    </tr>\n",
       "    <tr>\n",
       "      <th>3</th>\n",
       "      <td>47905</td>\n",
       "      <td>43</td>\n",
       "      <td>6</td>\n",
       "      <td>gastritis</td>\n",
       "    </tr>\n",
       "    <tr>\n",
       "      <th>4</th>\n",
       "      <td>47909</td>\n",
       "      <td>52</td>\n",
       "      <td>11</td>\n",
       "      <td>flu</td>\n",
       "    </tr>\n",
       "    <tr>\n",
       "      <th>5</th>\n",
       "      <td>47906</td>\n",
       "      <td>47</td>\n",
       "      <td>8</td>\n",
       "      <td>bronchitis</td>\n",
       "    </tr>\n",
       "    <tr>\n",
       "      <th>6</th>\n",
       "      <td>47605</td>\n",
       "      <td>30</td>\n",
       "      <td>7</td>\n",
       "      <td>bronchitis</td>\n",
       "    </tr>\n",
       "    <tr>\n",
       "      <th>7</th>\n",
       "      <td>47673</td>\n",
       "      <td>36</td>\n",
       "      <td>9</td>\n",
       "      <td>pneumonia</td>\n",
       "    </tr>\n",
       "    <tr>\n",
       "      <th>8</th>\n",
       "      <td>47607</td>\n",
       "      <td>32</td>\n",
       "      <td>10</td>\n",
       "      <td>stomach cancer</td>\n",
       "    </tr>\n",
       "  </tbody>\n",
       "</table>\n",
       "</div>"
      ],
      "text/plain": [
       "   zipcode  age  salary         disease\n",
       "0    47677   29       3   gastric ulcer\n",
       "1    47602   22       4       gastritis\n",
       "2    47678   27       5  stomach cancer\n",
       "3    47905   43       6       gastritis\n",
       "4    47909   52      11             flu\n",
       "5    47906   47       8      bronchitis\n",
       "6    47605   30       7      bronchitis\n",
       "7    47673   36       9       pneumonia\n",
       "8    47607   32      10  stomach cancer"
      ]
     },
     "execution_count": 3,
     "metadata": {},
     "output_type": "execute_result"
    }
   ],
   "source": [
    "data_df"
   ]
  },
  {
   "cell_type": "markdown",
   "metadata": {},
   "source": [
    "### Create Redaction based hierarchy"
   ]
  },
  {
   "cell_type": "markdown",
   "metadata": {},
   "source": [
    "#### 1. Extract column to create hierarchy from"
   ]
  },
  {
   "cell_type": "code",
   "execution_count": 5,
   "metadata": {},
   "outputs": [
    {
     "data": {
      "text/plain": [
       "[47677, 47602, 47678, 47905, 47909, 47906, 47605, 47673, 47607]"
      ]
     },
     "execution_count": 5,
     "metadata": {},
     "output_type": "execute_result"
    }
   ],
   "source": [
    "column = data_df[\"zipcode\"].tolist()\n",
    "column"
   ]
  },
  {
   "cell_type": "markdown",
   "metadata": {},
   "source": [
    "#### 2. Create hierarchy builder to use"
   ]
  },
  {
   "cell_type": "code",
   "execution_count": 6,
   "metadata": {},
   "outputs": [],
   "source": [
    "redaction_based = RedactionHierarchyBuilder()"
   ]
  },
  {
   "cell_type": "markdown",
   "metadata": {},
   "source": [
    "#### 3. Call the ARXaaS service to create the hierarchy"
   ]
  },
  {
   "cell_type": "code",
   "execution_count": 9,
   "metadata": {},
   "outputs": [],
   "source": [
    "redaction_hierarchy = arxaas.hierarchy(redaction_based, column)"
   ]
  },
  {
   "cell_type": "code",
   "execution_count": 10,
   "metadata": {},
   "outputs": [
    {
     "data": {
      "text/plain": [
       "[['47677', '4767*', '476**', '47***', '4****', '*****'],\n",
       " ['47602', '4760*', '476**', '47***', '4****', '*****'],\n",
       " ['47678', '4767*', '476**', '47***', '4****', '*****'],\n",
       " ['47905', '4790*', '479**', '47***', '4****', '*****'],\n",
       " ['47909', '4790*', '479**', '47***', '4****', '*****'],\n",
       " ['47906', '4790*', '479**', '47***', '4****', '*****'],\n",
       " ['47605', '4760*', '476**', '47***', '4****', '*****'],\n",
       " ['47673', '4767*', '476**', '47***', '4****', '*****'],\n",
       " ['47607', '4760*', '476**', '47***', '4****', '*****']]"
      ]
     },
     "execution_count": 10,
     "metadata": {},
     "output_type": "execute_result"
    }
   ],
   "source": [
    "redaction_hierarchy"
   ]
  },
  {
   "cell_type": "markdown",
   "metadata": {},
   "source": [
    "### Create interval based hierarchy"
   ]
  },
  {
   "cell_type": "markdown",
   "metadata": {},
   "source": [
    "#### 1. Extract column to create hierarchy from"
   ]
  },
  {
   "cell_type": "code",
   "execution_count": 11,
   "metadata": {},
   "outputs": [
    {
     "data": {
      "text/plain": [
       "[29, 22, 27, 43, 52, 47, 30, 36, 32]"
      ]
     },
     "execution_count": 11,
     "metadata": {},
     "output_type": "execute_result"
    }
   ],
   "source": [
    "column = data_df[\"age\"].tolist()\n",
    "column"
   ]
  },
  {
   "cell_type": "markdown",
   "metadata": {},
   "source": [
    "#### 2. Create hierarchy builder to use"
   ]
  },
  {
   "cell_type": "code",
   "execution_count": 34,
   "metadata": {},
   "outputs": [],
   "source": [
    "interval_based = IntervalHierarchyBuilder()\n",
    "interval_based.add_interval(18,30, \"young-adult\")\n",
    "interval_based.add_interval(30,60, \"adult\")"
   ]
  },
  {
   "cell_type": "markdown",
   "metadata": {},
   "source": [
    "#### 3. Call the ARXaaS service to create the hierarchy"
   ]
  },
  {
   "cell_type": "code",
   "execution_count": 35,
   "metadata": {},
   "outputs": [],
   "source": [
    "interval_hierarchy = arxaas.hierarchy(interval_based, column)"
   ]
  },
  {
   "cell_type": "code",
   "execution_count": 36,
   "metadata": {},
   "outputs": [
    {
     "data": {
      "text/plain": [
       "[['29', 'young-adult', '*'],\n",
       " ['22', 'young-adult', '*'],\n",
       " ['27', 'young-adult', '*'],\n",
       " ['43', 'adult', '*'],\n",
       " ['52', 'adult', '*'],\n",
       " ['47', 'adult', '*'],\n",
       " ['30', 'adult', '*'],\n",
       " ['36', 'adult', '*'],\n",
       " ['32', 'adult', '*']]"
      ]
     },
     "execution_count": 36,
     "metadata": {},
     "output_type": "execute_result"
    }
   ],
   "source": [
    "interval_hierarchy"
   ]
  },
  {
   "cell_type": "markdown",
   "metadata": {},
   "source": [
    "### Create Order based hierarchy"
   ]
  },
  {
   "cell_type": "markdown",
   "metadata": {},
   "source": [
    "#### 1. Extract column to create hierarchy from\n"
   ]
  },
  {
   "cell_type": "code",
   "execution_count": 37,
   "metadata": {},
   "outputs": [
    {
     "data": {
      "text/plain": [
       "['gastric ulcer',\n",
       " 'gastritis',\n",
       " 'stomach cancer',\n",
       " 'gastritis',\n",
       " 'flu',\n",
       " 'bronchitis',\n",
       " 'bronchitis',\n",
       " 'pneumonia',\n",
       " 'stomach cancer']"
      ]
     },
     "execution_count": 37,
     "metadata": {},
     "output_type": "execute_result"
    }
   ],
   "source": [
    "column = data_df[\"disease\"].tolist()\n",
    "column.sw"
   ]
  },
  {
   "cell_type": "markdown",
   "metadata": {},
   "source": [
    "#### 2. Strip to uniques and order column values"
   ]
  },
  {
   "cell_type": "code",
   "execution_count": 47,
   "metadata": {},
   "outputs": [
    {
     "data": {
      "text/plain": [
       "['stomach cancer',\n",
       " 'gastric ulcer',\n",
       " 'gastritis',\n",
       " 'pneumonia',\n",
       " 'bronchitis',\n",
       " 'flu']"
      ]
     },
     "execution_count": 47,
     "metadata": {},
     "output_type": "execute_result"
    }
   ],
   "source": [
    "column = set(column)\n",
    "column = list(column)\n",
    "column[1], column[3] = column[3], column[1]\n",
    "column"
   ]
  },
  {
   "cell_type": "markdown",
   "metadata": {},
   "source": [
    "#### 2. Create hierarchy builder to use"
   ]
  },
  {
   "cell_type": "code",
   "execution_count": 48,
   "metadata": {},
   "outputs": [],
   "source": [
    "order_based = OrderHierarchyBuilder()\n",
    "order_based.level(0).add_group(3, \"stomach-related\")\n",
    "order_based.level(0).add_group(3, \"lung-related\")"
   ]
  },
  {
   "cell_type": "markdown",
   "metadata": {},
   "source": [
    "#### 3. Call the ARXaaS service to create the hierarchy*"
   ]
  },
  {
   "cell_type": "code",
   "execution_count": 49,
   "metadata": {},
   "outputs": [],
   "source": [
    "order_hierarchy = arxaas.hierarchy(order_based, column)"
   ]
  },
  {
   "cell_type": "code",
   "execution_count": 50,
   "metadata": {},
   "outputs": [
    {
     "data": {
      "text/plain": [
       "[['stomach cancer', 'stomach-related', '*'],\n",
       " ['gastric ulcer', 'stomach-related', '*'],\n",
       " ['gastritis', 'stomach-related', '*'],\n",
       " ['pneumonia', 'lung-related', '*'],\n",
       " ['bronchitis', 'lung-related', '*'],\n",
       " ['flu', 'lung-related', '*']]"
      ]
     },
     "execution_count": 50,
     "metadata": {},
     "output_type": "execute_result"
    }
   ],
   "source": [
    "order_hierarchy"
   ]
  },
  {
   "cell_type": "markdown",
   "metadata": {},
   "source": [
    "### Example anonymization"
   ]
  },
  {
   "cell_type": "code",
   "execution_count": 72,
   "metadata": {},
   "outputs": [],
   "source": [
    "dataset = Dataset.from_pandas(data_df)"
   ]
  },
  {
   "cell_type": "code",
   "execution_count": 73,
   "metadata": {},
   "outputs": [],
   "source": [
    "dataset.set_attribute_type(AttributeType.IDENTIFYING, \"salary\")"
   ]
  },
  {
   "cell_type": "code",
   "execution_count": 74,
   "metadata": {},
   "outputs": [
    {
     "name": "stdout",
     "output_type": "stream",
     "text": [
      "data:\n",
      "  headers:\n",
      "    ['zipcode', 'age', 'salary', 'disease']\n",
      "rows:\n",
      "    [47677, 29, 3, 'gastric ulcer']\n",
      "    [47602, 22, 4, 'gastritis']\n",
      "    [47678, 27, 5, 'stomach cancer']\n",
      "    [47905, 43, 6, 'gastritis']\n",
      "    [47909, 52, 11, 'flu']\n",
      "    ...\n",
      "attributes:\n",
      "  field_name=zipcode, type=QUASIIDENTIFYING, hierarchy=None\n",
      "  field_name=age, type=QUASIIDENTIFYING, hierarchy=None\n",
      "  field_name=salary, type=IDENTIFYING, hierarchy=None\n",
      "  field_name=disease, type=QUASIIDENTIFYING, hierarchy=None\n",
      "\n"
     ]
    }
   ],
   "source": [
    "dataset.describe()"
   ]
  },
  {
   "cell_type": "code",
   "execution_count": 75,
   "metadata": {},
   "outputs": [],
   "source": [
    "dataset.set_hierarchy(\"age\", interval_hierarchy)"
   ]
  },
  {
   "cell_type": "code",
   "execution_count": 76,
   "metadata": {},
   "outputs": [],
   "source": [
    "dataset.set_hierarchy(\"zipcode\", redaction_hierarchy)"
   ]
  },
  {
   "cell_type": "code",
   "execution_count": 77,
   "metadata": {},
   "outputs": [],
   "source": [
    "dataset.set_hierarchy(\"disease\", order_hierarchy)"
   ]
  },
  {
   "cell_type": "code",
   "execution_count": 78,
   "metadata": {},
   "outputs": [],
   "source": [
    "anon_result = arxaas.anonymize(dataset=dataset, privacy_models=[KAnonymity(2)])"
   ]
  },
  {
   "cell_type": "code",
   "execution_count": 79,
   "metadata": {},
   "outputs": [
    {
     "data": {
      "text/html": [
       "<div>\n",
       "<style scoped>\n",
       "    .dataframe tbody tr th:only-of-type {\n",
       "        vertical-align: middle;\n",
       "    }\n",
       "\n",
       "    .dataframe tbody tr th {\n",
       "        vertical-align: top;\n",
       "    }\n",
       "\n",
       "    .dataframe thead th {\n",
       "        text-align: right;\n",
       "    }\n",
       "</style>\n",
       "<table border=\"1\" class=\"dataframe\">\n",
       "  <thead>\n",
       "    <tr style=\"text-align: right;\">\n",
       "      <th></th>\n",
       "      <th>zipcode</th>\n",
       "      <th>age</th>\n",
       "      <th>salary</th>\n",
       "      <th>disease</th>\n",
       "    </tr>\n",
       "  </thead>\n",
       "  <tbody>\n",
       "    <tr>\n",
       "      <th>0</th>\n",
       "      <td>47***</td>\n",
       "      <td>young-adult</td>\n",
       "      <td>*</td>\n",
       "      <td>stomach-related</td>\n",
       "    </tr>\n",
       "    <tr>\n",
       "      <th>1</th>\n",
       "      <td>47***</td>\n",
       "      <td>young-adult</td>\n",
       "      <td>*</td>\n",
       "      <td>stomach-related</td>\n",
       "    </tr>\n",
       "    <tr>\n",
       "      <th>2</th>\n",
       "      <td>47***</td>\n",
       "      <td>young-adult</td>\n",
       "      <td>*</td>\n",
       "      <td>stomach-related</td>\n",
       "    </tr>\n",
       "    <tr>\n",
       "      <th>3</th>\n",
       "      <td>47***</td>\n",
       "      <td>adult</td>\n",
       "      <td>*</td>\n",
       "      <td>stomach-related</td>\n",
       "    </tr>\n",
       "    <tr>\n",
       "      <th>4</th>\n",
       "      <td>47***</td>\n",
       "      <td>adult</td>\n",
       "      <td>*</td>\n",
       "      <td>lung-related</td>\n",
       "    </tr>\n",
       "    <tr>\n",
       "      <th>5</th>\n",
       "      <td>47***</td>\n",
       "      <td>adult</td>\n",
       "      <td>*</td>\n",
       "      <td>lung-related</td>\n",
       "    </tr>\n",
       "    <tr>\n",
       "      <th>6</th>\n",
       "      <td>47***</td>\n",
       "      <td>adult</td>\n",
       "      <td>*</td>\n",
       "      <td>lung-related</td>\n",
       "    </tr>\n",
       "    <tr>\n",
       "      <th>7</th>\n",
       "      <td>47***</td>\n",
       "      <td>adult</td>\n",
       "      <td>*</td>\n",
       "      <td>lung-related</td>\n",
       "    </tr>\n",
       "    <tr>\n",
       "      <th>8</th>\n",
       "      <td>47***</td>\n",
       "      <td>adult</td>\n",
       "      <td>*</td>\n",
       "      <td>stomach-related</td>\n",
       "    </tr>\n",
       "  </tbody>\n",
       "</table>\n",
       "</div>"
      ],
      "text/plain": [
       "  zipcode          age salary          disease\n",
       "0   47***  young-adult      *  stomach-related\n",
       "1   47***  young-adult      *  stomach-related\n",
       "2   47***  young-adult      *  stomach-related\n",
       "3   47***        adult      *  stomach-related\n",
       "4   47***        adult      *     lung-related\n",
       "5   47***        adult      *     lung-related\n",
       "6   47***        adult      *     lung-related\n",
       "7   47***        adult      *     lung-related\n",
       "8   47***        adult      *  stomach-related"
      ]
     },
     "execution_count": 79,
     "metadata": {},
     "output_type": "execute_result"
    }
   ],
   "source": [
    "anon_result.dataset.to_dataframe()"
   ]
  },
  {
   "cell_type": "code",
   "execution_count": null,
   "metadata": {},
   "outputs": [],
   "source": []
  },
  {
   "cell_type": "code",
   "execution_count": null,
   "metadata": {},
   "outputs": [],
   "source": []
  },
  {
   "cell_type": "code",
   "execution_count": null,
   "metadata": {},
   "outputs": [],
   "source": []
  }
 ],
 "metadata": {
  "kernelspec": {
   "display_name": "Python 3(pyarxaas)",
   "language": "python",
   "name": "venv"
  },
  "language_info": {
   "codemirror_mode": {
    "name": "ipython",
    "version": 3
   },
   "file_extension": ".py",
   "mimetype": "text/x-python",
   "name": "python",
   "nbconvert_exporter": "python",
   "pygments_lexer": "ipython3",
   "version": "3.7.3"
  }
 },
 "nbformat": 4,
 "nbformat_minor": 2
}
